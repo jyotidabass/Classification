{
  "nbformat": 4,
  "nbformat_minor": 0,
  "metadata": {
    "colab": {
      "name": "Copy of Diet_system.ipynb",
      "provenance": [],
      "authorship_tag": "ABX9TyNRaPYpl8q14jf8W/TDx57u",
      "include_colab_link": true
    },
    "kernelspec": {
      "name": "python3",
      "display_name": "Python 3"
    },
    "language_info": {
      "name": "python"
    }
  },
  "cells": [
    {
      "cell_type": "markdown",
      "metadata": {
        "id": "view-in-github",
        "colab_type": "text"
      },
      "source": [
        "<a href=\"https://colab.research.google.com/github/jyotidabass/Classification/blob/main/Copy_of_Diet_system.ipynb\" target=\"_parent\"><img src=\"https://colab.research.google.com/assets/colab-badge.svg\" alt=\"Open In Colab\"/></a>"
      ]
    },
    {
      "cell_type": "code",
      "execution_count": 1,
      "metadata": {
        "colab": {
          "base_uri": "https://localhost:8080/"
        },
        "id": "w1ndWN-WWDsX",
        "outputId": "35e3babb-8cde-4b0b-c15d-11d18e650316"
      },
      "outputs": [
        {
          "output_type": "stream",
          "name": "stdout",
          "text": [
            "fatal: destination path 'Personalized-Diet-Recommendation-System' already exists and is not an empty directory.\n"
          ]
        }
      ],
      "source": [
        "!git clone https://github.com/MohnishRaval/Personalized-Diet-Recommendation-System.git"
      ]
    },
    {
      "cell_type": "code",
      "source": [
        "import os\n",
        "os.chdir('/content/Personalized-Diet-Recommendation-System')"
      ],
      "metadata": {
        "id": "U3hzuf6sWNoB"
      },
      "execution_count": 2,
      "outputs": []
    },
    {
      "cell_type": "code",
      "source": [
        "from tkinter import *\n",
        "from PIL import ImageFilter,Image\n",
        "from tkinter import filedialog, messagebox\n",
        "import os\n",
        "import psutil\n",
        "import time\n",
        "import subprocess\n",
        "import cv2\n",
        "import fnmatch"
      ],
      "metadata": {
        "id": "rm2_NeW6WZ9e"
      },
      "execution_count": 3,
      "outputs": []
    },
    {
      "cell_type": "code",
      "source": [
        "### CREATE VIRTUAL DISPLAY ###\n",
        "!apt-get install -y xvfb # Install X Virtual Frame Buffer\n",
        "import os\n",
        "os.system('Xvfb :1 -screen 0 1600x1200x16  &')    # create virtual display with size 1600x1200 and 16 bit color. Color can be changed to 24 or 8\n",
        "os.environ['DISPLAY']=':1.0'    # tell X clients to use our virtual DISPLAY :1.0."
      ],
      "metadata": {
        "colab": {
          "base_uri": "https://localhost:8080/"
        },
        "id": "XhiCWMNGXBNY",
        "outputId": "42839ae9-594a-434a-e0c0-f529f75a7d83"
      },
      "execution_count": 4,
      "outputs": [
        {
          "output_type": "stream",
          "name": "stdout",
          "text": [
            "Reading package lists... Done\n",
            "Building dependency tree       \n",
            "Reading state information... Done\n",
            "xvfb is already the newest version (2:1.19.6-1ubuntu4.10).\n",
            "The following packages were automatically installed and are no longer required:\n",
            "  cuda-command-line-tools-10-0 cuda-command-line-tools-10-1\n",
            "  cuda-command-line-tools-11-0 cuda-compiler-10-0 cuda-compiler-10-1\n",
            "  cuda-compiler-11-0 cuda-cuobjdump-10-0 cuda-cuobjdump-10-1\n",
            "  cuda-cuobjdump-11-0 cuda-cupti-10-0 cuda-cupti-10-1 cuda-cupti-11-0\n",
            "  cuda-cupti-dev-11-0 cuda-documentation-10-0 cuda-documentation-10-1\n",
            "  cuda-documentation-11-0 cuda-documentation-11-1 cuda-gdb-10-0 cuda-gdb-10-1\n",
            "  cuda-gdb-11-0 cuda-gpu-library-advisor-10-0 cuda-gpu-library-advisor-10-1\n",
            "  cuda-libraries-10-0 cuda-libraries-10-1 cuda-libraries-11-0\n",
            "  cuda-memcheck-10-0 cuda-memcheck-10-1 cuda-memcheck-11-0 cuda-nsight-10-0\n",
            "  cuda-nsight-10-1 cuda-nsight-11-0 cuda-nsight-11-1 cuda-nsight-compute-10-0\n",
            "  cuda-nsight-compute-10-1 cuda-nsight-compute-11-0 cuda-nsight-compute-11-1\n",
            "  cuda-nsight-systems-10-1 cuda-nsight-systems-11-0 cuda-nsight-systems-11-1\n",
            "  cuda-nvcc-10-0 cuda-nvcc-10-1 cuda-nvcc-11-0 cuda-nvdisasm-10-0\n",
            "  cuda-nvdisasm-10-1 cuda-nvdisasm-11-0 cuda-nvml-dev-10-0 cuda-nvml-dev-10-1\n",
            "  cuda-nvml-dev-11-0 cuda-nvprof-10-0 cuda-nvprof-10-1 cuda-nvprof-11-0\n",
            "  cuda-nvprune-10-0 cuda-nvprune-10-1 cuda-nvprune-11-0 cuda-nvtx-10-0\n",
            "  cuda-nvtx-10-1 cuda-nvtx-11-0 cuda-nvvp-10-0 cuda-nvvp-10-1 cuda-nvvp-11-0\n",
            "  cuda-nvvp-11-1 cuda-samples-10-0 cuda-samples-10-1 cuda-samples-11-0\n",
            "  cuda-samples-11-1 cuda-sanitizer-11-0 cuda-sanitizer-api-10-1\n",
            "  cuda-toolkit-10-0 cuda-toolkit-10-1 cuda-toolkit-11-0 cuda-toolkit-11-1\n",
            "  cuda-tools-10-0 cuda-tools-10-1 cuda-tools-11-0 cuda-tools-11-1\n",
            "  cuda-visual-tools-10-0 cuda-visual-tools-10-1 cuda-visual-tools-11-0\n",
            "  cuda-visual-tools-11-1 default-jre dkms freeglut3 freeglut3-dev\n",
            "  keyboard-configuration libargon2-0 libcap2 libcryptsetup12\n",
            "  libdevmapper1.02.1 libidn11 libip4tc0 libjansson4 libnvidia-cfg1-510\n",
            "  libnvidia-common-460 libnvidia-common-510 libnvidia-extra-510\n",
            "  libnvidia-fbc1-510 libnvidia-gl-510 libpam-systemd libpolkit-agent-1-0\n",
            "  libpolkit-backend-1-0 libpolkit-gobject-1-0 libxi-dev libxmu-dev\n",
            "  libxmu-headers libxnvctrl0 libxtst6 nsight-compute-2020.2.1\n",
            "  nsight-compute-2022.1.0 nsight-systems-2020.3.2 nsight-systems-2020.3.4\n",
            "  nsight-systems-2021.5.2 nvidia-dkms-510 nvidia-kernel-common-510\n",
            "  nvidia-kernel-source-510 nvidia-modprobe nvidia-settings openjdk-11-jre\n",
            "  policykit-1 policykit-1-gnome python3-xkit screen-resolution-extra systemd\n",
            "  systemd-sysv udev xserver-xorg-core-hwe-18.04 xserver-xorg-video-nvidia-510\n",
            "Use 'apt autoremove' to remove them.\n",
            "0 upgraded, 0 newly installed, 0 to remove and 39 not upgraded.\n"
          ]
        }
      ]
    },
    {
      "cell_type": "code",
      "source": [
        "main_win = Tk()\n",
        "#main_win.iconbitmap('3/favicon.ico')\n",
        "\n",
        "\n",
        "def show_entry_fields():\n",
        "    print(\" Age: %s\\n Veg-NonVeg:%s\\n Weight%s\\n Height%s\\n\" % (e1.get(), e2.get(),e3.get(), e4.get()))"
      ],
      "metadata": {
        "id": "rkf6u6nrWiuh"
      },
      "execution_count": 7,
      "outputs": []
    },
    {
      "cell_type": "code",
      "source": [
        "def Weight_Loss():\n",
        "    print(\" Age: %s\\n Veg-NonVeg:%s\\n Weight%s\\n Height%s\\n\" % (e1.get(), e2.get(),e3.get(), e4.get()))\n",
        "    #!/usr/bin/env python\n",
        "    # coding: utf-8\n",
        "  \n",
        "    import os\n",
        "    \n",
        "    import seaborn as sns\n",
        "    import matplotlib.pyplot as plt\n",
        "    from sklearn.cluster import KMeans"
      ],
      "metadata": {
        "id": "G1HnR96TXVaP"
      },
      "execution_count": 8,
      "outputs": []
    },
    {
      "cell_type": "code",
      "source": [
        "import numpy as np\n",
        "import pandas as pd\n",
        "## Reading of the Dataet\n",
        "data=pd.read_csv('food.csv')\n",
        "data.head(5)\n",
        "\n",
        "     \n",
        "Breakfastdata=data['Breakfast']\n",
        "BreakfastdataNumpy=Breakfastdata.to_numpy()\n",
        "    \n",
        "Lunchdata=data['Lunch']\n",
        "LunchdataNumpy=Lunchdata.to_numpy()\n",
        "    \n",
        "Dinnerdata=data['Dinner']\n",
        "DinnerdataNumpy=Dinnerdata.to_numpy()\n",
        "    \n",
        "Food_itemsdata=data['Food_items']\n",
        "def show_entry_fields():\n",
        "    print(\"\\n Age: %s\\n Veg-NonVeg: %s\\n Weight: %s kg\\n Hight: %s cm\\n\" % (e1.get(), e2.get(),e3.get(), e4.get()))\n",
        "\n",
        "\n",
        "def Weight_Loss():\n",
        "    show_entry_fields()\n",
        "\n",
        "breakfastfoodseparated=[]\n",
        "Lunchfoodseparated=[]\n",
        "Dinnerfoodseparated=[]\n",
        "    \n",
        "breakfastfoodseparatedID=[]\n",
        "LunchfoodseparatedID=[]\n",
        "DinnerfoodseparatedID=[]\n",
        "    \n",
        "for i in range(len(Breakfastdata)):\n",
        "      if BreakfastdataNumpy[i]==1:\n",
        "        breakfastfoodseparated.append(Food_itemsdata[i])\n",
        "        breakfastfoodseparatedID.append(i)\n",
        "      if LunchdataNumpy[i]==1:\n",
        "        Lunchfoodseparated.append(Food_itemsdata[i])\n",
        "        LunchfoodseparatedID.append(i)\n",
        "      if DinnerdataNumpy[i]==1:\n",
        "        Dinnerfoodseparated.append(Food_itemsdata[i])\n",
        "        DinnerfoodseparatedID.append(i)\n",
        "    "
      ],
      "metadata": {
        "id": "EfEl2giBXemD"
      },
      "execution_count": 9,
      "outputs": []
    },
    {
      "cell_type": "code",
      "source": [
        "print ('BREAKFAST FOOD ITEMS')\n",
        "print (breakfastfoodseparated)\n",
        "print ('LUNCH FOOD ITEMS')\n",
        "print (Lunchfoodseparated)\n",
        "print ('DINNER FOOD ITEMS')\n",
        "print (Dinnerfoodseparated)"
      ],
      "metadata": {
        "colab": {
          "base_uri": "https://localhost:8080/"
        },
        "id": "o4xO2hx490FK",
        "outputId": "9804d033-6167-44a3-90ca-2e4ce66f4286"
      },
      "execution_count": 10,
      "outputs": [
        {
          "output_type": "stream",
          "name": "stdout",
          "text": [
            "BREAKFAST FOOD ITEMS\n",
            "['Avocados', 'Bananas', 'Berries', 'American cheese', 'Coffee', 'Corn', 'Grapes', 'Milk', 'Cashew Nuts', 'Orange', 'Pears', 'Protein Powder', 'Pop Corn - Caramel', 'Pop Corn', 'Dosa', 'Idli', 'Poha', 'Tomato', 'Yogurt', 'Brownie', 'Uttapam', 'Bhaji Pav', 'Almonds', 'Mushrooms', 'Egg Yolk cooked', 'Sweet Potatoes cooked', 'Boiled Potatoes', 'Orange juice', 'Greek yogurt plain', 'Oat Bran Cooked', 'Green Tea', 'Chia seeds', 'Cereals-Corn Flakes', 'Tea', 'Apples', 'Strawberries', 'Quninoa', 'Nachos', 'Beef sticks', 'Banana Chips', 'Honey', 'Chocolate milk']\n",
            "LUNCH FOOD ITEMS\n",
            "['Asparagus Cooked', 'Bagels made in wheat', 'Brocolli', 'Brown Rice', 'Cauliflower', 'Corn', 'Onions', 'Pasta canned with tomato sauce', 'Peas', 'Pumpkin', 'Tuna Salad', 'French Fries', 'Chicken Burger', 'Cheese Burger', 'Chicken Sandwich', 'Sugar Doughnuts', 'Chocolate Doughnuts', 'Dosa', 'Idli', 'Chappati', 'Tomato', 'Yogurt', 'Noodles', 'Uttapam', 'Dal Makhani', 'Mushrooms', 'Sweet Potatoes cooked', 'Boiled Potatoes', 'White Rice', 'Greek yogurt plain', 'Cottage cheese with vegetables', 'Salmon', 'Beans', 'Lentils', 'Pasta with corn homemade', 'Quninoa', 'Goat meat', 'Rabbit meat', 'Steak Fries', 'Mexican Rice', 'Macroni n Cheese ', 'Nachos', 'Chicken Popcorn', 'Turkey cooked', 'Oyster cooked']\n",
            "DINNER FOOD ITEMS\n",
            "['Asparagus Cooked', 'Bagels made in wheat', 'Brocolli', 'Brown Rice', 'Cauliflower', 'Corn', 'Dark chocolates', 'Milk', 'Onions', 'Pasta canned with tomato sauce', 'Peas', 'Pumpkin', 'Tuna Salad', 'Tuna Fish', 'Peproni Pizza', 'Cheese Pizza', 'French Fries', 'Chicken Burger', 'Cheese Burger', 'Chicken Sandwich', 'Sugar Doughnuts', 'Chocolate Doughnuts', 'Pop Corn - Caramel', 'Pop Corn', 'Dosa', 'Idli', 'Chappati', 'Tomato', 'Yogurt', 'Noodles', 'Uttapam', 'Dal Makhani', 'Mushrooms', 'Boiled Potatoes', 'White Rice', 'Greek yogurt plain', 'Cottage cheese with vegetables', 'Salmon', 'Beans', 'Lentils', 'Pasta with corn homemade', 'Goat meat', 'Rabbit meat', 'Chicken Strips', 'Steak Fries', 'Mexican Rice', 'Fried Shrimp', 'Spaghetti and meatballs', 'Macroni n Cheese ', 'Pork cooked', 'Bacon cooked', 'Nachos', 'Chicken Popcorn', 'Turkey cooked', 'Oyster cooked', 'Honey', 'Chocolate Icecream', 'Vanilla Ice cream', 'Strawberry Icecream', 'Marshmallows', 'Rice Pudding']\n"
          ]
        }
      ]
    },
    {
      "cell_type": "code",
      "source": [
        "    # retrieving rows by loc method |\n",
        "LunchfoodseparatedIDdata = data.iloc[LunchfoodseparatedID]\n",
        "print(LunchfoodseparatedID)\n",
        "LunchfoodseparatedIDdata=LunchfoodseparatedIDdata.T\n",
        "val=list(np.arange(5,15))\n",
        "Valapnd=[0]+val\n",
        "LunchfoodseparatedIDdata=LunchfoodseparatedIDdata.iloc[Valapnd]\n",
        "LunchfoodseparatedIDdata=LunchfoodseparatedIDdata.T\n",
        "print (LunchfoodseparatedIDdata)"
      ],
      "metadata": {
        "colab": {
          "base_uri": "https://localhost:8080/"
        },
        "id": "GnAfBGqM-Bf0",
        "outputId": "1dc26fdc-abce-4826-e9b4-6a5836e9ed70"
      },
      "execution_count": 11,
      "outputs": [
        {
          "output_type": "stream",
          "name": "stdout",
          "text": [
            "[0, 3, 5, 6, 7, 10, 15, 17, 19, 21, 22, 26, 27, 28, 29, 30, 31, 34, 35, 37, 38, 39, 41, 42, 44, 46, 48, 49, 50, 52, 56, 57, 59, 60, 61, 65, 66, 67, 69, 70, 73, 76, 77, 78, 79]\n",
            "                        Food_items Calories  Fats  ... Carbohydrates Fibre VitaminD\n",
            "0                 Asparagus Cooked       22   0.2  ...           4.1   2.0        0\n",
            "3             Bagels made in wheat      250   1.5  ...          49.0   4.1        0\n",
            "5                         Brocolli       25   0.5  ...           3.1   2.8        0\n",
            "6                       Brown Rice      362   2.7  ...          76.0   3.4        0\n",
            "7                      Cauliflower       32   0.3  ...           6.3   3.3        0\n",
            "10                            Corn       97   1.4  ...          22.0   2.7        0\n",
            "15                          Onions       40   0.1  ...           9.3   1.7        0\n",
            "17  Pasta canned with tomato sauce       71   0.7  ...          14.0   0.9        0\n",
            "19                            Peas       81   0.4  ...          14.0   5.7        0\n",
            "21                         Pumpkin       18   0.1  ...           4.3   1.1        0\n",
            "22                      Tuna Salad      187   9.3  ...           9.4   0.0        0\n",
            "26                    French Fries      289  14.0  ...          37.0   3.9        0\n",
            "27                  Chicken Burger      292  15.0  ...          20.0   1.3        0\n",
            "28                   Cheese Burger      256  12.0  ...          25.0   1.4        0\n",
            "29                Chicken Sandwich      257  12.0  ...          23.0   1.2        0\n",
            "30                 Sugar Doughnuts      426  23.0  ...          51.0   1.5        0\n",
            "31             Chocolate Doughnuts      452  25.0  ...          51.0   1.9        0\n",
            "34                            Dosa      168   3.7  ...          29.0   0.9        0\n",
            "35                            Idli      156   1.7  ...          30.2   2.1        0\n",
            "37                        Chappati      297   7.5  ...          46.0   4.9        0\n",
            "38                          Tomato       16   0.2  ...           3.2   0.9        0\n",
            "39                          Yogurt       60   4.0  ...           7.0   0.0        1\n",
            "41                         Noodles      108   0.2  ...          24.0   1.0        0\n",
            "42                         Uttapam      188   7.2  ...          26.4   2.2        0\n",
            "44                     Dal Makhani      109   8.5  ...           6.3   1.5        0\n",
            "46                       Mushrooms       22   0.3  ...           3.3   1.0        7\n",
            "48           Sweet Potatoes cooked       76   0.1  ...          18.0   2.5        0\n",
            "49                 Boiled Potatoes       87   0.1  ...          20.0   2.0        0\n",
            "50                      White Rice      360   0.6  ...          79.0   1.4        0\n",
            "52              Greek yogurt plain       73   1.9  ...           3.9   0.0        0\n",
            "56  Cottage cheese with vegetables       95   4.2  ...           3.0   0.1        0\n",
            "57                          Salmon      127   4.4  ...           0.0   0.0      435\n",
            "59                           Beans       31   0.2  ...           7.0   2.7        0\n",
            "60                         Lentils      101   0.5  ...          21.0   0.0        0\n",
            "61        Pasta with corn homemade      126   0.7  ...          28.0   4.8        0\n",
            "65                         Quninoa      120   1.9  ...          21.0   2.8        0\n",
            "66                       Goat meat      109   2.3  ...          57.0   0.0        0\n",
            "67                     Rabbit meat      114   2.3  ...           0.0   0.0        0\n",
            "69                     Steak Fries      255  13.0  ...          31.0   3.5        0\n",
            "70                    Mexican Rice      195   4.9  ...          34.0   1.1        0\n",
            "73               Macroni n Cheese       194  12.0  ...          16.0   1.1        0\n",
            "76                          Nachos      350  22.0  ...          35.0   3.2        0\n",
            "77                 Chicken Popcorn      351  22.0  ...          21.0   1.0        0\n",
            "78                   Turkey cooked      203  10.0  ...           0.0   0.0        8\n",
            "79                   Oyster cooked      159   4.0  ...           0.0   0.0        0\n",
            "\n",
            "[45 rows x 11 columns]\n"
          ]
        }
      ]
    },
    {
      "cell_type": "code",
      "source": [
        "# retrieving rows by loc method \n",
        "breakfastfoodseparatedIDdata = data.iloc[breakfastfoodseparatedID]\n",
        "breakfastfoodseparatedIDdata=breakfastfoodseparatedIDdata.T\n",
        "val=list(np.arange(5,15))\n",
        "Valapnd=[0]+val\n",
        "breakfastfoodseparatedIDdata=breakfastfoodseparatedIDdata.iloc[Valapnd]\n",
        "breakfastfoodseparatedIDdata=breakfastfoodseparatedIDdata.T\n",
        "print (breakfastfoodseparatedIDdata)"
      ],
      "metadata": {
        "colab": {
          "base_uri": "https://localhost:8080/"
        },
        "id": "92iWi-1h-O7c",
        "outputId": "75f115db-faaf-43c2-cdcd-0e8b06d7a38d"
      },
      "execution_count": 12,
      "outputs": [
        {
          "output_type": "stream",
          "name": "stdout",
          "text": [
            "               Food_items Calories  Fats  ... Carbohydrates Fibre VitaminD\n",
            "1                Avocados      160  15.0  ...           8.5   6.7        0\n",
            "2                 Bananas       89   0.3  ...          23.0   2.6        0\n",
            "4                 Berries      349   0.4  ...          77.0  13.0        0\n",
            "8         American cheese      331  24.0  ...           8.3   0.0        0\n",
            "9                  Coffee        2   0.0  ...           0.2   0.0        0\n",
            "10                   Corn       97   1.4  ...          22.0   2.7        0\n",
            "12                 Grapes       93   2.1  ...          17.0  11.0        0\n",
            "13                   Milk       97   6.9  ...           5.2   0.0        0\n",
            "14            Cashew Nuts      553  44.0  ...          30.0   3.3        0\n",
            "16                 Orange       97   0.2  ...          25.0  11.0        0\n",
            "18                  Pears       57   0.1  ...          15.0   3.1        0\n",
            "20         Protein Powder      411  17.0  ...          19.0   7.1      200\n",
            "32     Pop Corn - Caramel      381   1.4  ...          90.0   2.5        0\n",
            "33               Pop Corn      429   9.5  ...          73.0  14.0        0\n",
            "34                   Dosa      168   3.7  ...          29.0   0.9        0\n",
            "35                   Idli      156   1.7  ...          30.2   2.1        0\n",
            "36                   Poha      130   1.5  ...          26.9   1.1        0\n",
            "38                 Tomato       16   0.2  ...           3.2   0.9        0\n",
            "39                 Yogurt       60   4.0  ...           7.0   0.0        1\n",
            "40                Brownie      407   6.2  ...          84.0   2.9        0\n",
            "42                Uttapam      188   7.2  ...          26.4   2.2        0\n",
            "43              Bhaji Pav      151   2.4  ...          29.3   1.0        0\n",
            "45                Almonds      579  50.0  ...          22.0  13.0        0\n",
            "46              Mushrooms       22   0.3  ...           3.3   1.0        7\n",
            "47        Egg Yolk cooked      196  15.0  ...           0.8   0.0       88\n",
            "48  Sweet Potatoes cooked       76   0.1  ...          18.0   2.5        0\n",
            "49        Boiled Potatoes       87   0.1  ...          20.0   2.0        0\n",
            "51           Orange juice       45   0.2  ...          10.0   0.2        0\n",
            "52     Greek yogurt plain       73   1.9  ...           3.9   0.0        0\n",
            "53        Oat Bran Cooked       40   0.9  ...          11.0   2.6        0\n",
            "54              Green Tea        1   0.0  ...           0.0   0.0        0\n",
            "55             Chia seeds      486  31.0  ...          42.0  34.0        0\n",
            "58    Cereals-Corn Flakes      384   0.9  ...          88.0   2.7      286\n",
            "62                    Tea        1   0.0  ...           0.2   0.0        0\n",
            "63                 Apples       52   0.2  ...          14.0  24.0        0\n",
            "64           Strawberries       32   0.3  ...           7.7   2.0        0\n",
            "65                Quninoa      120   1.9  ...          21.0   2.8        0\n",
            "76                 Nachos      350  22.0  ...          35.0   3.2        0\n",
            "80            Beef sticks      550  50.0  ...           5.4   0.0        0\n",
            "81           Banana Chips      519  34.0  ...          58.0   7.7        0\n",
            "82                  Honey      304   0.0  ...          82.0   0.2        0\n",
            "87         Chocolate milk      535  30.0  ...          59.0   3.4        0\n",
            "\n",
            "[42 rows x 11 columns]\n"
          ]
        }
      ]
    },
    {
      "cell_type": "code",
      "source": [
        "# retrieving rows by loc method \n",
        "DinnerfoodseparatedIDdata = data.iloc[DinnerfoodseparatedID]\n",
        "DinnerfoodseparatedIDdata=DinnerfoodseparatedIDdata.T\n",
        "val=list(np.arange(5,15))\n",
        "Valapnd=[0]+val\n",
        "DinnerfoodseparatedIDdata=DinnerfoodseparatedIDdata.iloc[Valapnd]\n",
        "DinnerfoodseparatedIDdata=DinnerfoodseparatedIDdata.T\n",
        "print (DinnerfoodseparatedIDdata)\n",
        "print (DinnerfoodseparatedIDdata.describe())\n",
        "#DinnerfoodseparatedIDdata.iloc[]\n",
        "    "
      ],
      "metadata": {
        "colab": {
          "base_uri": "https://localhost:8080/"
        },
        "id": "F1hP2PzpZKgS",
        "outputId": "86525b05-e8ef-4e42-fe0f-b2db2ab08fe8"
      },
      "execution_count": 13,
      "outputs": [
        {
          "output_type": "stream",
          "name": "stdout",
          "text": [
            "              Food_items Calories  Fats  ... Carbohydrates Fibre VitaminD\n",
            "0       Asparagus Cooked       22   0.2  ...           4.1   2.0        0\n",
            "3   Bagels made in wheat      250   1.5  ...          49.0   4.1        0\n",
            "5               Brocolli       25   0.5  ...           3.1   2.8        0\n",
            "6             Brown Rice      362   2.7  ...          76.0   3.4        0\n",
            "7            Cauliflower       32   0.3  ...           6.3   3.3        0\n",
            "..                   ...      ...   ...  ...           ...   ...      ...\n",
            "83    Chocolate Icecream      216  11.0  ...          28.0   1.2        0\n",
            "84     Vanilla Ice cream      207  11.0  ...          24.0   0.7        0\n",
            "85   Strawberry Icecream      192   8.4  ...          28.0   0.9        0\n",
            "86          Marshmallows      318   0.2  ...          81.0   0.1        0\n",
            "88          Rice Pudding      376   0.1  ...          91.0   0.7        0\n",
            "\n",
            "[61 rows x 11 columns]\n",
            "              Food_items  Calories  Fats  ...  Carbohydrates  Fibre  VitaminD\n",
            "count                 61        61  61.0  ...           61.0   61.0        61\n",
            "unique                61        57  40.0  ...           44.0   31.0         5\n",
            "top     Asparagus Cooked        22   0.2  ...            0.0    0.0         0\n",
            "freq                   1         2   5.0  ...            6.0   13.0        57\n",
            "\n",
            "[4 rows x 11 columns]\n"
          ]
        }
      ]
    },
    {
      "cell_type": "code",
      "source": [
        "1 #calculating BMI\n",
        "age= int(input());\n",
        "veg=float(input());\n",
        "weight=float(input());\n",
        "height=float(input());\n",
        "bmi = weight/((height/100)**2) \n",
        "agewiseinp=0\n",
        "        \n",
        "for lp in range (0,80,20):\n",
        "        test_list=np.arange(lp,lp+20)\n",
        "        for i in test_list: \n",
        "            if(i == age):\n",
        "                tr=round(lp/20)  \n",
        "                agecl=round(lp/20)    \n",
        "\n",
        "        \n",
        "    #conditions\n",
        "print(\"Your body mass index is: \", bmi)\n",
        "if ( bmi < 16):\n",
        "        print(\"Acoording to your BMI, you are Severely Underweight\")\n",
        "        clbmi=4\n",
        "elif ( bmi >= 16 and bmi < 18.5):\n",
        "        print(\"Acoording to your BMI, you are Underweight\")\n",
        "        clbmi=3\n",
        "elif ( bmi >= 18.5 and bmi < 25):\n",
        "        print(\"Acoording to your BMI, you are Healthy\")\n",
        "        clbmi=2\n",
        "elif ( bmi >= 25 and bmi < 30):\n",
        "        print(\"Acoording to your BMI, you are Overweight\")\n",
        "        clbmi=1\n",
        "elif ( bmi >=30):\n",
        "        print(\"Acoording to your BMI, you are Severely Overweight\")\n",
        "        clbmi=0"
      ],
      "metadata": {
        "colab": {
          "base_uri": "https://localhost:8080/"
        },
        "id": "Ylx0ZHc0ZV22",
        "outputId": "5de866cb-b90f-4753-b8b9-3ba74e57b8c0"
      },
      "execution_count": 14,
      "outputs": [
        {
          "output_type": "stream",
          "name": "stdout",
          "text": [
            "21\n",
            "1\n",
            "78\n",
            "180\n",
            "Your body mass index is:  24.074074074074073\n",
            "Acoording to your BMI, you are Healthy\n"
          ]
        }
      ]
    },
    {
      "cell_type": "code",
      "source": [
        "#converting into numpy array\n",
        "DinnerfoodseparatedIDdata=DinnerfoodseparatedIDdata.to_numpy()"
      ],
      "metadata": {
        "id": "h4M4CIJX-9Ue"
      },
      "execution_count": 15,
      "outputs": []
    },
    {
      "cell_type": "code",
      "source": [
        "LunchfoodseparatedIDdata=LunchfoodseparatedIDdata.to_numpy()"
      ],
      "metadata": {
        "id": "My7r7nGl_Hrs"
      },
      "execution_count": 16,
      "outputs": []
    },
    {
      "cell_type": "code",
      "source": [
        "breakfastfoodseparatedIDdata=breakfastfoodseparatedIDdata.to_numpy()"
      ],
      "metadata": {
        "id": "g1Yvoet8_L8A"
      },
      "execution_count": 17,
      "outputs": []
    },
    {
      "cell_type": "code",
      "source": [
        "ti=(clbmi+agecl)/2"
      ],
      "metadata": {
        "id": "AjRBpr3G_TjD"
      },
      "execution_count": 18,
      "outputs": []
    },
    {
      "cell_type": "code",
      "source": [
        "## K-Means Based  Dinner Food\n",
        "Datacalorie=DinnerfoodseparatedIDdata[1:,1:len(DinnerfoodseparatedIDdata)]"
      ],
      "metadata": {
        "id": "UDXGFiWc_Xmg"
      },
      "execution_count": 19,
      "outputs": []
    },
    {
      "cell_type": "code",
      "source": [
        "from sklearn.cluster import KMeans\n",
        "X = np.array(Datacalorie)\n",
        "kmeans = KMeans(n_clusters=3, random_state=0).fit(X)"
      ],
      "metadata": {
        "id": "ARTNt7hd_aF2"
      },
      "execution_count": 20,
      "outputs": []
    },
    {
      "cell_type": "code",
      "source": [
        "XValu=np.arange(0,len(kmeans.labels_))"
      ],
      "metadata": {
        "id": "CrpEx_Qq_5q1"
      },
      "execution_count": 21,
      "outputs": []
    },
    {
      "cell_type": "code",
      "source": [
        "# retrieving the labels for dinner food\n",
        "dnrlbl=kmeans.labels_"
      ],
      "metadata": {
        "id": "iIZvo-_kABXc"
      },
      "execution_count": 22,
      "outputs": []
    },
    {
      "cell_type": "code",
      "source": [
        "## K-Means Based  lunch Food\n",
        "Datacalorie=LunchfoodseparatedIDdata[1:,1:len(LunchfoodseparatedIDdata)]"
      ],
      "metadata": {
        "id": "32ktltPHAG0H"
      },
      "execution_count": 23,
      "outputs": []
    },
    {
      "cell_type": "code",
      "source": [
        "X = np.array(Datacalorie)\n",
        "kmeans = KMeans(n_clusters=3, random_state=0).fit(X)"
      ],
      "metadata": {
        "id": "Xxzv09V1AM2Y"
      },
      "execution_count": 24,
      "outputs": []
    },
    {
      "cell_type": "code",
      "source": [
        "XValu=np.arange(0,len(kmeans.labels_))"
      ],
      "metadata": {
        "id": "QuXOWu8wAUXj"
      },
      "execution_count": 25,
      "outputs": []
    },
    {
      "cell_type": "code",
      "source": [
        "# retrieving the labels for lunch food\n",
        "lnchlbl=kmeans.labels_"
      ],
      "metadata": {
        "id": "ggaYNUbIAaHe"
      },
      "execution_count": 26,
      "outputs": []
    },
    {
      "cell_type": "code",
      "source": [
        "## K-Means Based  lunch Food\n",
        "Datacalorie=breakfastfoodseparatedIDdata[1:,1:len(breakfastfoodseparatedIDdata)]"
      ],
      "metadata": {
        "id": "5hhYXyaNAkYn"
      },
      "execution_count": 27,
      "outputs": []
    },
    {
      "cell_type": "code",
      "source": [
        "X = np.array(Datacalorie)\n",
        "kmeans = KMeans(n_clusters=3, random_state=0).fit(X)"
      ],
      "metadata": {
        "id": "MD9pFQHkAqDX"
      },
      "execution_count": 28,
      "outputs": []
    },
    {
      "cell_type": "code",
      "source": [
        "XValu=np.arange(0,len(kmeans.labels_))"
      ],
      "metadata": {
        "id": "Bc9Y5hUKAwsk"
      },
      "execution_count": 29,
      "outputs": []
    },
    {
      "cell_type": "code",
      "source": [
        "# retrieving the labels for breakfast food\n",
        "brklbl=kmeans.labels_"
      ],
      "metadata": {
        "id": "216oRsRvA09v"
      },
      "execution_count": 30,
      "outputs": []
    },
    {
      "cell_type": "code",
      "source": [
        "inp=[]\n",
        "## Reading of the Dataet\n",
        "datafin=pd.read_csv('nutrition_distriution.csv')"
      ],
      "metadata": {
        "id": "gHbzfGVFA55h"
      },
      "execution_count": 31,
      "outputs": []
    },
    {
      "cell_type": "code",
      "source": [
        "## train set\n",
        "dataTog=datafin.T\n",
        "bmicls=[0,1,2,3,4]\n",
        "agecls=[0,1,2,3,4]\n",
        "weightlosscat = dataTog.iloc[[1,2,7,8]]\n",
        "weightlosscat=weightlosscat.T\n",
        "weightgaincat= dataTog.iloc[[0,1,2,3,4,7,9,10]]\n",
        "weightgaincat=weightgaincat.T\n",
        "healthycat = dataTog.iloc[[1,2,3,4,6,7,9]]\n",
        "healthycat=healthycat.T\n",
        "weightlosscatDdata=weightlosscat.to_numpy()\n",
        "weightgaincatDdata=weightgaincat.to_numpy()\n",
        "healthycatDdata=healthycat.to_numpy()\n",
        "weightlosscat=weightlosscatDdata[1:,0:len(weightlosscatDdata)]\n",
        "weightgaincat=weightgaincatDdata[1:,0:len(weightgaincatDdata)]\n",
        "healthycat=healthycatDdata[1:,0:len(healthycatDdata)]"
      ],
      "metadata": {
        "id": "QjiN4Z3eBTQr"
      },
      "execution_count": 32,
      "outputs": []
    },
    {
      "cell_type": "code",
      "source": [
        "weightlossfin=np.zeros((len(weightlosscat)*5,6),dtype=np.float32)\n",
        "weightgainfin=np.zeros((len(weightgaincat)*5,10),dtype=np.float32)\n",
        "healthycatfin=np.zeros((len(healthycat)*5,9),dtype=np.float32)\n",
        "t=0\n",
        "r=0\n",
        "s=0\n",
        "yt=[]\n",
        "yr=[]\n",
        "ys=[]"
      ],
      "metadata": {
        "id": "6gCxeKMEBrcU"
      },
      "execution_count": 33,
      "outputs": []
    },
    {
      "cell_type": "code",
      "source": [
        "for zz in range(5):\n",
        "        for jj in range(len(weightlosscat)):\n",
        "            valloc=list(weightlosscat[jj])\n",
        "            valloc.append(bmicls[zz])\n",
        "            valloc.append(agecls[zz])\n",
        "            weightlossfin[t]=np.array(valloc)\n",
        "            yt.append(brklbl[jj])\n",
        "            t+=1\n",
        "        for jj in range(len(weightgaincat)):\n",
        "            valloc=list(weightgaincat[jj])\n",
        "            valloc.append(bmicls[zz])\n",
        "            valloc.append(agecls[zz])\n",
        "            weightgainfin[r]=np.array(valloc)\n",
        "            yr.append(lnchlbl[jj])\n",
        "            r+=1\n",
        "        for jj in range(len(healthycat)):\n",
        "            valloc=list(healthycat[jj])\n",
        "            valloc.append(bmicls[zz])\n",
        "            valloc.append(agecls[zz])\n",
        "            healthycatfin[s]=np.array(valloc)\n",
        "            ys.append(dnrlbl[jj])\n",
        "            s+=1"
      ],
      "metadata": {
        "id": "Ke-qrimRB40Q"
      },
      "execution_count": 34,
      "outputs": []
    },
    {
      "cell_type": "code",
      "source": [
        "X_test=np.zeros((len(weightlosscat),6),dtype=np.float32)\n",
        "\n",
        "print('####################')"
      ],
      "metadata": {
        "colab": {
          "base_uri": "https://localhost:8080/"
        },
        "id": "9E7azu2iCAtQ",
        "outputId": "760f7daa-cce9-44c0-8599-bc9325366ac9"
      },
      "execution_count": 35,
      "outputs": [
        {
          "output_type": "stream",
          "name": "stdout",
          "text": [
            "####################\n"
          ]
        }
      ]
    },
    {
      "cell_type": "code",
      "source": [
        "#randomforest\n",
        "for jj in range(len(weightlosscat)):\n",
        "        valloc=list(weightlosscat[jj])\n",
        "        valloc.append(agecl)\n",
        "        valloc.append(clbmi)"
      ],
      "metadata": {
        "id": "Lprdl8QWCJDo"
      },
      "execution_count": 36,
      "outputs": []
    },
    {
      "cell_type": "code",
      "source": [
        "X_test[jj]=np.array(valloc)*ti"
      ],
      "metadata": {
        "id": "YhE3gIvMCc8R"
      },
      "execution_count": 37,
      "outputs": []
    },
    {
      "cell_type": "code",
      "source": [
        "X_train=weightlossfin# Features\n",
        "y_train=yt # Labels"
      ],
      "metadata": {
        "id": "HorbssdcChw4"
      },
      "execution_count": 38,
      "outputs": []
    },
    {
      "cell_type": "code",
      "source": [
        " #Create a Gaussian Classifier\n",
        "from sklearn.ensemble import RandomForestClassifier\n",
        "clf=RandomForestClassifier(n_estimators=100)"
      ],
      "metadata": {
        "id": "H9BPPq6GCnXk"
      },
      "execution_count": 39,
      "outputs": []
    },
    {
      "cell_type": "code",
      "source": [
        "#Train the model using the training sets #\n",
        "y_pred=clf.predict(X_test)\n",
        "clf.fit(X_train,y_train)"
      ],
      "metadata": {
        "colab": {
          "base_uri": "https://localhost:8080/"
        },
        "id": "SzabCEKMC131",
        "outputId": "3fa9db54-1e87-4fb1-ebc8-09b6cbba727d"
      },
      "execution_count": 44,
      "outputs": [
        {
          "output_type": "execute_result",
          "data": {
            "text/plain": [
              "RandomForestClassifier()"
            ]
          },
          "metadata": {},
          "execution_count": 44
        }
      ]
    },
    {
      "cell_type": "code",
      "source": [
        "print (X_test[1])\n",
        "X_test2=X_test\n",
        "y_pred=clf.predict(X_test)"
      ],
      "metadata": {
        "colab": {
          "base_uri": "https://localhost:8080/"
        },
        "id": "p2E4puDmC-w_",
        "outputId": "b1c8a713-d281-401a-af9f-d208a8393c30"
      },
      "execution_count": 45,
      "outputs": [
        {
          "output_type": "stream",
          "name": "stdout",
          "text": [
            "[0. 0. 0. 0. 0. 0.]\n"
          ]
        }
      ]
    },
    {
      "cell_type": "code",
      "source": [
        "print ('SUGGESTED FOOD ITEMS ::')"
      ],
      "metadata": {
        "colab": {
          "base_uri": "https://localhost:8080/"
        },
        "id": "S0CURFNPDFdl",
        "outputId": "660b4f2c-6eb5-4528-86ba-7e8187179c48"
      },
      "execution_count": 46,
      "outputs": [
        {
          "output_type": "stream",
          "name": "stdout",
          "text": [
            "SUGGESTED FOOD ITEMS ::\n"
          ]
        }
      ]
    },
    {
      "cell_type": "code",
      "source": [
        "for ii in range(len(y_pred)):\n",
        "        if y_pred[ii]==2:     #weightloss\n",
        "            print (Food_itemsdata[ii])\n",
        "            findata=Food_itemsdata[ii]\n",
        "            if int(veg)==1:\n",
        "                datanv=['Chicken Burger']\n",
        "                for it in range(len(datanv)):\n",
        "                    if findata==datanv[it]:\n",
        "                        print('VegNovVeg')\n",
        "\n",
        "print('\\n Thank You for taking our recommendations. :)')\n"
      ],
      "metadata": {
        "colab": {
          "base_uri": "https://localhost:8080/"
        },
        "id": "L_BSXnctDMPh",
        "outputId": "7f98a21a-727e-47f5-af51-776497fe5997"
      },
      "execution_count": 47,
      "outputs": [
        {
          "output_type": "stream",
          "name": "stdout",
          "text": [
            "Brownie\n",
            "\n",
            " Thank You for taking our recommendations. :)\n"
          ]
        }
      ]
    },
    {
      "cell_type": "code",
      "source": [
        "def Weight_Gain():\n",
        "    show_entry_fields()"
      ],
      "metadata": {
        "id": "TeqvSrpJDVQ3"
      },
      "execution_count": 48,
      "outputs": []
    },
    {
      "cell_type": "code",
      "source": [
        "breakfastfoodseparated=[]\n",
        "Lunchfoodseparated=[]\n",
        "Dinnerfoodseparated=[]\n",
        "        \n",
        "breakfastfoodseparatedID=[]\n",
        "LunchfoodseparatedID=[]\n",
        "DinnerfoodseparatedID=[]"
      ],
      "metadata": {
        "id": "ObxAG7hhDbre"
      },
      "execution_count": 49,
      "outputs": []
    },
    {
      "cell_type": "code",
      "source": [
        "for i in range(len(Breakfastdata)):\n",
        "        if BreakfastdataNumpy[i]==1:\n",
        "            breakfastfoodseparated.append( Food_itemsdata[i] )\n",
        "            breakfastfoodseparatedID.append(i)\n",
        "        if LunchdataNumpy[i]==1:\n",
        "            Lunchfoodseparated.append(Food_itemsdata[i])\n",
        "            LunchfoodseparatedID.append(i)\n",
        "        if DinnerdataNumpy[i]==1:\n",
        "            Dinnerfoodseparated.append(Food_itemsdata[i])\n",
        "            DinnerfoodseparatedID.append(i)"
      ],
      "metadata": {
        "id": "df2KkHeZDkcK"
      },
      "execution_count": 50,
      "outputs": []
    },
    {
      "cell_type": "code",
      "source": [
        "# retrieving rows by loc method |\n",
        "LunchfoodseparatedIDdata = data.iloc[LunchfoodseparatedID]\n",
        "LunchfoodseparatedIDdata=LunchfoodseparatedIDdata.T\n",
        "val=list(np.arange(5,15))\n",
        "Valapnd=[0]+val\n",
        "LunchfoodseparatedIDdata=LunchfoodseparatedIDdata.iloc[Valapnd]\n",
        "LunchfoodseparatedIDdata=LunchfoodseparatedIDdata.T\n",
        "        "
      ],
      "metadata": {
        "id": "X6G09C0_DpEV"
      },
      "execution_count": 51,
      "outputs": []
    },
    {
      "cell_type": "code",
      "source": [
        "# retrieving rows by loc method \n",
        "breakfastfoodseparatedIDdata = data.iloc[breakfastfoodseparatedID]\n",
        "breakfastfoodseparatedIDdata=breakfastfoodseparatedIDdata.T\n",
        "val=list(np.arange(5,15))\n",
        "Valapnd=[0]+val\n",
        "breakfastfoodseparatedIDdata=breakfastfoodseparatedIDdata.iloc[Valapnd]\n",
        "breakfastfoodseparatedIDdata=breakfastfoodseparatedIDdata.T"
      ],
      "metadata": {
        "id": "bhX5aNvmDyeH"
      },
      "execution_count": 52,
      "outputs": []
    },
    {
      "cell_type": "code",
      "source": [
        "# retrieving rows by loc method \n",
        "DinnerfoodseparatedIDdata = data.iloc[DinnerfoodseparatedID]\n",
        "DinnerfoodseparatedIDdata=DinnerfoodseparatedIDdata.T\n",
        "val=list(np.arange(5,15))\n",
        "Valapnd=[0]+val\n",
        "DinnerfoodseparatedIDdata=DinnerfoodseparatedIDdata.iloc[Valapnd]\n",
        "DinnerfoodseparatedIDdata=DinnerfoodseparatedIDdata.T"
      ],
      "metadata": {
        "id": "0m7rygj6D-Fl"
      },
      "execution_count": 53,
      "outputs": []
    },
    {
      "cell_type": "code",
      "source": [
        "1#claculating BMI\n",
        "age= int(input());\n",
        "veg=float(input());\n",
        "weight=float(input());\n",
        "height=float(input());\n",
        "bmi = weight/((height/100)**2)   "
      ],
      "metadata": {
        "colab": {
          "base_uri": "https://localhost:8080/"
        },
        "id": "p-V6Hm8GEJkZ",
        "outputId": "a8160a2e-62e0-44e7-ba82-3f0640e193f4"
      },
      "execution_count": 54,
      "outputs": [
        {
          "name": "stdout",
          "output_type": "stream",
          "text": [
            "21\n",
            "1\n",
            "78\n",
            "180\n"
          ]
        }
      ]
    },
    {
      "cell_type": "code",
      "source": [
        "for lp in range (0,80,20):\n",
        "        test_list=np.arange(lp,lp+20)\n",
        "        for i in test_list: \n",
        "            if(i == age):\n",
        "                tr=round(lp/20)  \n",
        "                agecl=round(lp/20)\n",
        "\n",
        "print(\"Your body mass index is: \", bmi)\n",
        "if ( bmi < 16):\n",
        "        print(\"Acoording to your BMI, you are Severely Underweight\")\n",
        "        clbmi=4\n",
        "elif ( bmi >= 16 and bmi < 18.5):\n",
        "        print(\"Acoording to your BMI, you are Underweight\")\n",
        "        clbmi=3\n",
        "elif ( bmi >= 18.5 and bmi < 25):\n",
        "        print(\"Acoording to your BMI, you are Healthy\")\n",
        "        clbmi=2\n",
        "elif ( bmi >= 25 and bmi < 30):\n",
        "        print(\"Acoording to your BMI, you are Overweight\")\n",
        "        clbmi=1\n",
        "elif ( bmi >=30):\n",
        "        print(\"Acoording to your BMI, you are Severely Overweight\")\n",
        "        clbmi=0"
      ],
      "metadata": {
        "colab": {
          "base_uri": "https://localhost:8080/"
        },
        "id": "viq4J8atIX5J",
        "outputId": "48d2a41f-f587-40dd-dee2-404f3d97ecf9"
      },
      "execution_count": 55,
      "outputs": [
        {
          "output_type": "stream",
          "name": "stdout",
          "text": [
            "Your body mass index is:  24.074074074074073\n",
            "Acoording to your BMI, you are Healthy\n"
          ]
        }
      ]
    },
    {
      "cell_type": "code",
      "source": [
        "DinnerfoodseparatedIDdata=DinnerfoodseparatedIDdata.to_numpy()"
      ],
      "metadata": {
        "id": "pWOoc2Q7Iil-"
      },
      "execution_count": 56,
      "outputs": []
    },
    {
      "cell_type": "code",
      "source": [
        "LunchfoodseparatedIDdata=LunchfoodseparatedIDdata.to_numpy()"
      ],
      "metadata": {
        "id": "8d2V0GPkIoSQ"
      },
      "execution_count": 57,
      "outputs": []
    },
    {
      "cell_type": "code",
      "source": [
        "breakfastfoodseparatedIDdata=breakfastfoodseparatedIDdata.to_numpy()\n",
        "ti=(bmi+agecl)/2"
      ],
      "metadata": {
        "id": "EU_ld62fIr8z"
      },
      "execution_count": 58,
      "outputs": []
    },
    {
      "cell_type": "code",
      "source": [
        "## K-Means Based  Dinner Food\n",
        "Datacalorie=DinnerfoodseparatedIDdata[1:,1:len(DinnerfoodseparatedIDdata)]\n",
        "    \n",
        "X = np.array(Datacalorie)\n",
        "kmeans = KMeans(n_clusters=3, random_state=0).fit(X)\n",
        "    \n",
        "XValu=np.arange(0,len(kmeans.labels_))"
      ],
      "metadata": {
        "id": "A-FCU6aZIyHU"
      },
      "execution_count": 59,
      "outputs": []
    },
    {
      "cell_type": "code",
      "source": [
        "import matplotlib.pyplot as plt\n",
        "plt.bar(XValu,kmeans.labels_)"
      ],
      "metadata": {
        "colab": {
          "base_uri": "https://localhost:8080/",
          "height": 282
        },
        "id": "11sp4UL_I9tQ",
        "outputId": "778c4e84-fc7c-47e1-c676-ae53781a3b83"
      },
      "execution_count": 60,
      "outputs": [
        {
          "output_type": "execute_result",
          "data": {
            "text/plain": [
              "<BarContainer object of 60 artists>"
            ]
          },
          "metadata": {},
          "execution_count": 60
        },
        {
          "output_type": "display_data",
          "data": {
            "image/png": "[encoded data removed]",
            "text/plain": [
              "<Figure size 432x288 with 1 Axes>"
            ]
          },
          "metadata": {
            "needs_background": "light"
          }
        }
      ]
    },
    {
      "cell_type": "code",
      "source": [
        "dnrlbl=kmeans.labels_\n",
        "plt.title(\"Predicted Low-High Weigted Calorie Foods\")\n",
        "    "
      ],
      "metadata": {
        "colab": {
          "base_uri": "https://localhost:8080/",
          "height": 298
        },
        "id": "svZ1VgisJO4P",
        "outputId": "7a21db81-b5ab-40a7-b42c-aa224f810bc8"
      },
      "execution_count": 61,
      "outputs": [
        {
          "output_type": "execute_result",
          "data": {
            "text/plain": [
              "Text(0.5, 1.0, 'Predicted Low-High Weigted Calorie Foods')"
            ]
          },
          "metadata": {},
          "execution_count": 61
        },
        {
          "output_type": "display_data",
          "data": {
            "image/png": "[encoded data removed]",
            "text/plain": [
              "<Figure size 432x288 with 1 Axes>"
            ]
          },
          "metadata": {
            "needs_background": "light"
          }
        }
      ]
    },
    {
      "cell_type": "code",
      "source": [
        "## K-Means Based  lunch Food\n",
        "Datacalorie=LunchfoodseparatedIDdata[1:,1:len(LunchfoodseparatedIDdata)]\n",
        "    \n",
        "X = np.array(Datacalorie)\n",
        "kmeans = KMeans(n_clusters=3, random_state=0).fit(X)\n",
        "    \n",
        "XValu=np.arange(0,len(kmeans.labels_))\n",
        "fig,axs=plt.subplots(1,1,figsize=(15,5))\n",
        "plt.bar(XValu,kmeans.labels_)"
      ],
      "metadata": {
        "colab": {
          "base_uri": "https://localhost:8080/",
          "height": 337
        },
        "id": "IfCDlQHwJYXO",
        "outputId": "39090717-ecb1-474c-8428-b5981601beb3"
      },
      "execution_count": 62,
      "outputs": [
        {
          "output_type": "execute_result",
          "data": {
            "text/plain": [
              "<BarContainer object of 44 artists>"
            ]
          },
          "metadata": {},
          "execution_count": 62
        },
        {
          "output_type": "display_data",
          "data": {
            "image/png": "[encoded data removed]",
            "text/plain": [
              "<Figure size 1080x360 with 1 Axes>"
            ]
          },
          "metadata": {
            "needs_background": "light"
          }
        }
      ]
    },
    {
      "cell_type": "code",
      "source": [
        "lnchlbl=kmeans.labels_\n",
        "plt.title(\"Predicted Low-High Weigted Calorie Foods\")"
      ],
      "metadata": {
        "colab": {
          "base_uri": "https://localhost:8080/",
          "height": 298
        },
        "id": "sn_fz4dMJngf",
        "outputId": "5646aae6-939d-41c3-9181-427d7260980f"
      },
      "execution_count": 63,
      "outputs": [
        {
          "output_type": "execute_result",
          "data": {
            "text/plain": [
              "Text(0.5, 1.0, 'Predicted Low-High Weigted Calorie Foods')"
            ]
          },
          "metadata": {},
          "execution_count": 63
        },
        {
          "output_type": "display_data",
          "data": {
            "image/png": "[encoded data removed]",
            "text/plain": [
              "<Figure size 432x288 with 1 Axes>"
            ]
          },
          "metadata": {
            "needs_background": "light"
          }
        }
      ]
    },
    {
      "cell_type": "code",
      "source": [
        "## K-Means Based  breakfast Food\n",
        "Datacalorie=breakfastfoodseparatedIDdata[1:,1:len(breakfastfoodseparatedIDdata)]\n",
        "\n",
        "X = np.array(Datacalorie)\n",
        "kmeans = KMeans(n_clusters=3, random_state=0).fit(X)\n",
        "    \n",
        "XValu=np.arange(0,len(kmeans.labels_))\n",
        "fig,axs=plt.subplots(1,1,figsize=(15,5))\n",
        "plt.bar(XValu,kmeans.labels_)"
      ],
      "metadata": {
        "colab": {
          "base_uri": "https://localhost:8080/",
          "height": 337
        },
        "id": "jQn04W2DJ0QZ",
        "outputId": "38ea4654-2fd8-4f92-f410-f3cf044fd37b"
      },
      "execution_count": 64,
      "outputs": [
        {
          "output_type": "execute_result",
          "data": {
            "text/plain": [
              "<BarContainer object of 41 artists>"
            ]
          },
          "metadata": {},
          "execution_count": 64
        },
        {
          "output_type": "display_data",
          "data": {
            "image/png": "[encoded data removed]",
            "text/plain": [
              "<Figure size 1080x360 with 1 Axes>"
            ]
          },
          "metadata": {
            "needs_background": "light"
          }
        }
      ]
    },
    {
      "cell_type": "code",
      "source": [
        "brklbl=kmeans.labels_\n",
        "    \n",
        "plt.title(\"Predicted Low-High Weigted Calorie Foods\")\n",
        "inp=[]"
      ],
      "metadata": {
        "colab": {
          "base_uri": "https://localhost:8080/",
          "height": 281
        },
        "id": "dY-Kz7AwKAW9",
        "outputId": "7922612f-0c55-4853-ee5a-861925272fdb"
      },
      "execution_count": 65,
      "outputs": [
        {
          "output_type": "display_data",
          "data": {
            "image/png": "[encoded data removed]",
            "text/plain": [
              "<Figure size 432x288 with 1 Axes>"
            ]
          },
          "metadata": {
            "needs_background": "light"
          }
        }
      ]
    },
    {
      "cell_type": "code",
      "source": [
        "## Reading of the Dataet\n",
        "datafin=pd.read_csv('/content/Personalized-Diet-Recommendation-System/nutrition_distriution.csv')\n",
        "datafin.head(5)"
      ],
      "metadata": {
        "colab": {
          "base_uri": "https://localhost:8080/",
          "height": 288
        },
        "id": "SbtFLl8EexaD",
        "outputId": "495feb79-69b3-4e71-c75b-738656744d4a"
      },
      "execution_count": 66,
      "outputs": [
        {
          "output_type": "execute_result",
          "data": {
            "text/html": [
              "\n",
              "  <div id=\"df-cbe179a2-c37e-40ef-9421-4b3218cb1113\">\n",
              "    <div class=\"colab-df-container\">\n",
              "      <div>\n",
              "<style scoped>\n",
              "    .dataframe tbody tr th:only-of-type {\n",
              "        vertical-align: middle;\n",
              "    }\n",
              "\n",
              "    .dataframe tbody tr th {\n",
              "        vertical-align: top;\n",
              "    }\n",
              "\n",
              "    .dataframe thead th {\n",
              "        text-align: right;\n",
              "    }\n",
              "</style>\n",
              "<table border=\"1\" class=\"dataframe\">\n",
              "  <thead>\n",
              "    <tr style=\"text-align: right;\">\n",
              "      <th></th>\n",
              "      <th>0Calories</th>\n",
              "      <th>1Fats (gm)</th>\n",
              "      <th>2Proteins(g)</th>\n",
              "      <th>3Iron(mg)</th>\n",
              "      <th>4Calcium(mg)</th>\n",
              "      <th>5Sodium(mg)</th>\n",
              "      <th>6Potassium(mg)</th>\n",
              "      <th>7Carbohydrates (gm)</th>\n",
              "      <th>8Fibre (gm)</th>\n",
              "      <th>9Vitamin D (mcg)</th>\n",
              "      <th>10Sugars (gm)</th>\n",
              "    </tr>\n",
              "  </thead>\n",
              "  <tbody>\n",
              "    <tr>\n",
              "      <th>0</th>\n",
              "      <td>160</td>\n",
              "      <td>15.0</td>\n",
              "      <td>2.0</td>\n",
              "      <td>0.55</td>\n",
              "      <td>12</td>\n",
              "      <td>7</td>\n",
              "      <td>485.0</td>\n",
              "      <td>8.5</td>\n",
              "      <td>6.7</td>\n",
              "      <td>0</td>\n",
              "      <td>0.7</td>\n",
              "    </tr>\n",
              "    <tr>\n",
              "      <th>1</th>\n",
              "      <td>89</td>\n",
              "      <td>0.3</td>\n",
              "      <td>1.1</td>\n",
              "      <td>0.26</td>\n",
              "      <td>5</td>\n",
              "      <td>1</td>\n",
              "      <td>358.0</td>\n",
              "      <td>8.5</td>\n",
              "      <td>2.6</td>\n",
              "      <td>0</td>\n",
              "      <td>12.0</td>\n",
              "    </tr>\n",
              "    <tr>\n",
              "      <th>2</th>\n",
              "      <td>349</td>\n",
              "      <td>0.4</td>\n",
              "      <td>14.0</td>\n",
              "      <td>6.80</td>\n",
              "      <td>190</td>\n",
              "      <td>298</td>\n",
              "      <td>77.0</td>\n",
              "      <td>8.5</td>\n",
              "      <td>13.0</td>\n",
              "      <td>0</td>\n",
              "      <td>46.0</td>\n",
              "    </tr>\n",
              "    <tr>\n",
              "      <th>3</th>\n",
              "      <td>331</td>\n",
              "      <td>24.0</td>\n",
              "      <td>20.0</td>\n",
              "      <td>0.84</td>\n",
              "      <td>497</td>\n",
              "      <td>966</td>\n",
              "      <td>363.0</td>\n",
              "      <td>8.5</td>\n",
              "      <td>0.0</td>\n",
              "      <td>0</td>\n",
              "      <td>0.0</td>\n",
              "    </tr>\n",
              "    <tr>\n",
              "      <th>4</th>\n",
              "      <td>2</td>\n",
              "      <td>0.0</td>\n",
              "      <td>0.3</td>\n",
              "      <td>0.02</td>\n",
              "      <td>2</td>\n",
              "      <td>1</td>\n",
              "      <td>50.0</td>\n",
              "      <td>8.5</td>\n",
              "      <td>0.0</td>\n",
              "      <td>0</td>\n",
              "      <td>0.0</td>\n",
              "    </tr>\n",
              "  </tbody>\n",
              "</table>\n",
              "</div>\n",
              "      <button class=\"colab-df-convert\" onclick=\"convertToInteractive('df-cbe179a2-c37e-40ef-9421-4b3218cb1113')\"\n",
              "              title=\"Convert this dataframe to an interactive table.\"\n",
              "              style=\"display:none;\">\n",
              "        \n",
              "  <svg xmlns=\"http://www.w3.org/2000/svg\" height=\"24px\"viewBox=\"0 0 24 24\"\n",
              "       width=\"24px\">\n",
              "    <path d=\"M0 0h24v24H0V0z\" fill=\"none\"/>\n",
              "    <path d=\"M18.56 5.44l.94 2.06.94-2.06 2.06-.94-2.06-.94-.94-2.06-.94 2.06-2.06.94zm-11 1L8.5 8.5l.94-2.06 2.06-.94-2.06-.94L8.5 2.5l-.94 2.06-2.06.94zm10 10l.94 2.06.94-2.06 2.06-.94-2.06-.94-.94-2.06-.94 2.06-2.06.94z\"/><path d=\"M17.41 7.96l-1.37-1.37c-.4-.4-.92-.59-1.43-.59-.52 0-1.04.2-1.43.59L10.3 9.45l-7.72 7.72c-.78.78-.78 2.05 0 2.83L4 21.41c.39.39.9.59 1.41.59.51 0 1.02-.2 1.41-.59l7.78-7.78 2.81-2.81c.8-.78.8-2.07 0-2.86zM5.41 20L4 18.59l7.72-7.72 1.47 1.35L5.41 20z\"/>\n",
              "  </svg>\n",
              "      </button>\n",
              "      \n",
              "  <style>\n",
              "    .colab-df-container {\n",
              "      display:flex;\n",
              "      flex-wrap:wrap;\n",
              "      gap: 12px;\n",
              "    }\n",
              "\n",
              "    .colab-df-convert {\n",
              "      background-color: #E8F0FE;\n",
              "      border: none;\n",
              "      border-radius: 50%;\n",
              "      cursor: pointer;\n",
              "      display: none;\n",
              "      fill: #1967D2;\n",
              "      height: 32px;\n",
              "      padding: 0 0 0 0;\n",
              "      width: 32px;\n",
              "    }\n",
              "\n",
              "    .colab-df-convert:hover {\n",
              "      background-color: #E2EBFA;\n",
              "      box-shadow: 0px 1px 2px rgba(60, 64, 67, 0.3), 0px 1px 3px 1px rgba(60, 64, 67, 0.15);\n",
              "      fill: #174EA6;\n",
              "    }\n",
              "\n",
              "    [theme=dark] .colab-df-convert {\n",
              "      background-color: #3B4455;\n",
              "      fill: #D2E3FC;\n",
              "    }\n",
              "\n",
              "    [theme=dark] .colab-df-convert:hover {\n",
              "      background-color: #434B5C;\n",
              "      box-shadow: 0px 1px 3px 1px rgba(0, 0, 0, 0.15);\n",
              "      filter: drop-shadow(0px 1px 2px rgba(0, 0, 0, 0.3));\n",
              "      fill: #FFFFFF;\n",
              "    }\n",
              "  </style>\n",
              "\n",
              "      <script>\n",
              "        const buttonEl =\n",
              "          document.querySelector('#df-cbe179a2-c37e-40ef-9421-4b3218cb1113 button.colab-df-convert');\n",
              "        buttonEl.style.display =\n",
              "          google.colab.kernel.accessAllowed ? 'block' : 'none';\n",
              "\n",
              "        async function convertToInteractive(key) {\n",
              "          const element = document.querySelector('#df-cbe179a2-c37e-40ef-9421-4b3218cb1113');\n",
              "          const dataTable =\n",
              "            await google.colab.kernel.invokeFunction('convertToInteractive',\n",
              "                                                     [key], {});\n",
              "          if (!dataTable) return;\n",
              "\n",
              "          const docLinkHtml = 'Like what you see? Visit the ' +\n",
              "            '<a target=\"_blank\" href=https://colab.research.google.com/notebooks/data_table.ipynb>data table notebook</a>'\n",
              "            + ' to learn more about interactive tables.';\n",
              "          element.innerHTML = '';\n",
              "          dataTable['output_type'] = 'display_data';\n",
              "          await google.colab.output.renderOutput(dataTable, element);\n",
              "          const docLink = document.createElement('div');\n",
              "          docLink.innerHTML = docLinkHtml;\n",
              "          element.appendChild(docLink);\n",
              "        }\n",
              "      </script>\n",
              "    </div>\n",
              "  </div>\n",
              "  "
            ],
            "text/plain": [
              "   0Calories   1Fats (gm)  ...  9Vitamin D (mcg)  10Sugars (gm)\n",
              "0         160        15.0  ...                 0            0.7\n",
              "1          89         0.3  ...                 0           12.0\n",
              "2         349         0.4  ...                 0           46.0\n",
              "3         331        24.0  ...                 0            0.0\n",
              "4           2         0.0  ...                 0            0.0\n",
              "\n",
              "[5 rows x 11 columns]"
            ]
          },
          "metadata": {},
          "execution_count": 66
        }
      ]
    },
    {
      "cell_type": "code",
      "source": [
        "dataTog=datafin.T\n"
      ],
      "metadata": {
        "id": "c-I2mlF8e2j_"
      },
      "execution_count": 67,
      "outputs": []
    },
    {
      "cell_type": "code",
      "source": [
        "bmicls=[0,1,2,3,4]\n",
        "agecls=[0,1,2,3,4]"
      ],
      "metadata": {
        "id": "CUHQBDHbe9Ap"
      },
      "execution_count": 68,
      "outputs": []
    },
    {
      "cell_type": "code",
      "source": [
        "weightlosscat = dataTog.iloc[[1,2,7,8]]\n",
        "weightlosscat=weightlosscat.T"
      ],
      "metadata": {
        "id": "J2q-IxdXfBx1"
      },
      "execution_count": 69,
      "outputs": []
    },
    {
      "cell_type": "code",
      "source": [
        "weightgaincat= dataTog.iloc[[0,1,2,3,4,7,9,10]]\n",
        "weightgaincat=weightgaincat.T"
      ],
      "metadata": {
        "id": "SQNuDUO5fEq1"
      },
      "execution_count": 70,
      "outputs": []
    },
    {
      "cell_type": "code",
      "source": [
        "healthycat = dataTog.iloc[[1,2,3,4,6,7,9]]\n",
        "healthycat=healthycat.T"
      ],
      "metadata": {
        "id": "fLucA2PQfJO7"
      },
      "execution_count": 71,
      "outputs": []
    },
    {
      "cell_type": "code",
      "source": [
        "weightlosscatDdata=weightlosscat.to_numpy()"
      ],
      "metadata": {
        "id": "SCq3cdUGfNBN"
      },
      "execution_count": 72,
      "outputs": []
    },
    {
      "cell_type": "code",
      "source": [
        "weightgaincatDdata=weightgaincat.to_numpy()"
      ],
      "metadata": {
        "id": "wQKap5KhfPRd"
      },
      "execution_count": 73,
      "outputs": []
    },
    {
      "cell_type": "code",
      "source": [
        "healthycatDdata=healthycat.to_numpy()"
      ],
      "metadata": {
        "id": "_9LOm9-8fRxz"
      },
      "execution_count": 74,
      "outputs": []
    },
    {
      "cell_type": "code",
      "source": [
        "weightlosscat=weightlosscatDdata[1:,0:len(weightlosscatDdata)]"
      ],
      "metadata": {
        "id": "n1qTZKiBfYft"
      },
      "execution_count": 75,
      "outputs": []
    },
    {
      "cell_type": "code",
      "source": [
        "weightgaincat=weightgaincatDdata[1:,0:len(weightgaincatDdata)]"
      ],
      "metadata": {
        "id": "J0iRad-XfZuF"
      },
      "execution_count": 76,
      "outputs": []
    },
    {
      "cell_type": "code",
      "source": [
        "healthycat=healthycatDdata[1:,0:len(healthycatDdata)]"
      ],
      "metadata": {
        "id": "UbDUmo1Cfeue"
      },
      "execution_count": 77,
      "outputs": []
    },
    {
      "cell_type": "code",
      "source": [
        "weightlossfin=np.zeros((len(weightlosscat)*5,6),dtype=np.float32)"
      ],
      "metadata": {
        "id": "DD60-Zi5fi6r"
      },
      "execution_count": 78,
      "outputs": []
    },
    {
      "cell_type": "code",
      "source": [
        "weightgainfin=np.zeros((len(weightgaincat)*5,10),dtype=np.float32)"
      ],
      "metadata": {
        "id": "-serLbDXfkL4"
      },
      "execution_count": 79,
      "outputs": []
    },
    {
      "cell_type": "code",
      "source": [
        "healthycatfin=np.zeros((len(healthycat)*5,9),dtype=np.float32)"
      ],
      "metadata": {
        "id": "geu-WcjMfoHl"
      },
      "execution_count": 80,
      "outputs": []
    },
    {
      "cell_type": "code",
      "source": [
        "t=0\n",
        "yt=[]\n",
        "for zz in range(5):\n",
        "        for jj in range(len(weightlosscat)):\n",
        "            valloc=list(weightlosscat[jj])\n",
        "            valloc.append(bmicls[zz])\n",
        "            valloc.append(agecls[zz])\n",
        "            weightlossfin[t]=np.array(valloc)\n",
        "            yt.append(brklbl[jj])\n",
        "            t+=1"
      ],
      "metadata": {
        "id": "BRAWSEpRgSoD"
      },
      "execution_count": 81,
      "outputs": []
    },
    {
      "cell_type": "code",
      "source": [
        "r=0\n",
        "yr=[]\n",
        "for jj in range(len(weightgaincat)):\n",
        "            valloc=list(weightgaincat[jj])\n",
        "            print(valloc)\n",
        "            valloc.append(bmicls[zz])\n",
        "            valloc.append(agecls[zz])\n",
        "            weightgainfin[r]=np.array(valloc)\n",
        "            yr.append(lnchlbl[jj])\n",
        "            r+=1"
      ],
      "metadata": {
        "colab": {
          "base_uri": "https://localhost:8080/"
        },
        "id": "s6n3MzDLXbHH",
        "outputId": "1d31d10b-2c4c-431e-e32f-bc5ba24fd5d8"
      },
      "execution_count": 82,
      "outputs": [
        {
          "output_type": "stream",
          "name": "stdout",
          "text": [
            "[89.0, 0.3, 1.1, 0.26, 5.0, 8.5, 0.0, 12.0]\n",
            "[349.0, 0.4, 14.0, 6.8, 190.0, 8.5, 0.0, 46.0]\n",
            "[331.0, 24.0, 20.0, 0.84, 497.0, 8.5, 0.0, 0.0]\n",
            "[2.0, 0.0, 0.3, 0.02, 2.0, 8.5, 0.0, 0.0]\n",
            "[97.0, 1.4, 3.3, 0.55, 2.0, 8.5, 0.0, 7.7]\n",
            "[93.0, 2.1, 5.6, 2.63, 2.0, 8.5, 0.0, 6.3]\n",
            "[97.0, 6.9, 3.8, 0.12, 2.0, 8.5, 0.0, 0.0]\n",
            "[553.0, 44.0, 18.0, 6.68, 2.0, 8.5, 0.0, 5.9]\n",
            "[97.0, 0.2, 1.5, 0.8, 2.0, 8.5, 0.0, 0.0]\n",
            "[57.0, 0.1, 0.4, 0.18, 2.0, 8.5, 0.0, 9.8]\n",
            "[411.0, 17.0, 46.0, 8.57, 2.0, 8.5, 200.0, 5.7]\n",
            "[381.0, 1.4, 2.0, 0.8, 2.0, 8.5, 0.0, 65.0]\n",
            "[429.0, 9.5, 13.0, 2.28, 2.0, 8.5, 0.0, 0.5]\n",
            "[168.0, 3.7, 4.5, 8.0, 2.0, 8.5, 0.0, 0.1]\n",
            "[156.0, 1.7, 5.0, 17.2, 2.0, 8.5, 0.0, 0.74]\n",
            "[130.0, 1.5, 2.6, 3.16, 2.0, 8.5, 0.0, 0.5]\n",
            "[16.0, 0.2, 1.2, 0.47, 2.0, 8.5, 0.0, 2.63]\n",
            "[60.0, 4.0, 3.1, 0.08, 2.0, 8.5, 1.0, 7.0]\n",
            "[407.0, 6.2, 4.4, 3.81, 2.0, 8.5, 0.0, 55.0]\n",
            "[188.0, 7.2, 4.4, 24.0, 2.0, 8.5, 0.0, 0.24]\n",
            "[151.0, 2.4, 9.0, 37.4, 2.0, 8.5, 0.0, 1.35]\n",
            "[579.0, 50.0, 21.0, 3.71, 2.0, 8.5, 0.0, 4.4]\n",
            "[22.0, 0.3, 3.1, 0.5, 2.0, 8.5, 7.0, 2.0]\n",
            "[196.0, 15.0, 14.0, 1.89, 2.0, 8.5, 88.0, 0.4]\n",
            "[76.0, 0.1, 1.4, 0.72, 2.0, 8.5, 0.0, 5.7]\n",
            "[87.0, 0.1, 1.9, 0.31, 2.0, 8.5, 0.0, 0.9]\n",
            "[45.0, 0.2, 0.7, 0.2, 2.0, 8.5, 0.0, 8.4]\n",
            "[73.0, 1.9, 10.0, 0.04, 2.0, 8.5, 0.0, 3.6]\n",
            "[40.0, 0.9, 3.2, 0.88, 2.0, 8.5, 0.0, 0.0]\n",
            "[1.0, 0.0, 0.2, 0.02, 2.0, 8.5, 0.0, 0.0]\n",
            "[486.0, 31.0, 17.0, 7.72, 2.0, 8.5, 0.0, 0.0]\n",
            "[384.0, 0.9, 5.9, 19.4, 2.0, 8.5, 286.0, 7.8]\n",
            "[1.0, 0.0, 0.0, 0.08, 2.0, 8.5, 0.0, 0.0]\n",
            "[52.0, 0.2, 0.3, 0.12, 2.0, 8.5, 0.0, 10.0]\n",
            "[32.0, 0.3, 0.7, 0.41, 2.0, 8.5, 0.0, 4.9]\n",
            "[120.0, 1.9, 4.4, 1.49, 2.0, 8.5, 0.0, 0.9]\n",
            "[350.0, 22.0, 4.3, 0.75, 2.0, 8.5, 0.0, 2.2]\n",
            "[550.0, 50.0, 22.0, 3.4, 2.0, 8.5, 0.0, 0.0]\n",
            "[519.0, 34.0, 2.3, 1.25, 2.0, 8.5, 0.0, 35.0]\n",
            "[304.0, 0.0, 0.3, 0.42, 2.0, 8.5, 0.0, 82.0]\n",
            "[535.0, 30.0, 7.7, 2.35, 2.0, 8.5, 0.0, 52.0]\n"
          ]
        }
      ]
    },
    {
      "cell_type": "code",
      "source": [
        "s=0\n",
        "ys=[]\n",
        "for jj in range(len(healthycat)):\n",
        "            valloc=list(healthycat[jj])\n",
        "            valloc.append(bmicls[zz])\n",
        "            valloc.append(agecls[zz])\n",
        "            healthycatfin[s]=np.array(valloc)\n",
        "            ys.append(dnrlbl[jj])\n",
        "            s+=1"
      ],
      "metadata": {
        "id": "j9Qfw-6vgrxD"
      },
      "execution_count": 83,
      "outputs": []
    },
    {
      "cell_type": "code",
      "source": [
        "X_test=np.zeros((len(weightgaincat),10),dtype=np.float32)\n",
        "print('####################')"
      ],
      "metadata": {
        "colab": {
          "base_uri": "https://localhost:8080/"
        },
        "id": "KJ0GHybaYLLK",
        "outputId": "75d3adf2-f8ac-4651-aadb-e8f4907bd5c6"
      },
      "execution_count": 84,
      "outputs": [
        {
          "output_type": "stream",
          "name": "stdout",
          "text": [
            "####################\n"
          ]
        }
      ]
    },
    {
      "cell_type": "code",
      "source": [
        "# In[287]:\n",
        "for jj in range(len(weightgaincat)):\n",
        "        valloc=list(weightgaincat[jj])\n",
        "        valloc.append(agecl)\n",
        "        valloc.append(clbmi)\n",
        "        X_test[jj]=np.array(valloc)*ti"
      ],
      "metadata": {
        "id": "UO2Sn4bxYQY7"
      },
      "execution_count": 85,
      "outputs": []
    },
    {
      "cell_type": "code",
      "source": [
        "X_train=weightgainfin# Features\n",
        "y_train=yt # Labels\n",
        "from sklearn.ensemble import RandomForestClassifier\n",
        "from sklearn.datasets import make_classification\n",
        "clf=RandomForestClassifier(n_estimators=100)"
      ],
      "metadata": {
        "id": "5YoB_85PqAwZ"
      },
      "execution_count": 86,
      "outputs": []
    },
    {
      "cell_type": "code",
      "source": [
        "clf.fit(X_train,y_train)\n",
        "X_test2=X_test\n",
        "y_pred=clf.predict(X_test)"
      ],
      "metadata": {
        "id": "YuIgzkUNqFZU"
      },
      "execution_count": 88,
      "outputs": []
    },
    {
      "cell_type": "code",
      "source": [
        "print ('SUGGESTED FOOD ITEMS ::')\n",
        "for ii in range(len(y_pred)):\n",
        "        if y_pred[ii]==2:\n",
        "            print (Food_itemsdata[ii])\n",
        "            findata=Food_itemsdata[ii]\n",
        "            if int(veg)==1:\n",
        "                datanv=['Chicken Burger']\n",
        "                for it in range(len(datanv)):\n",
        "                    if findata==datanv[it]:\n",
        "                        print('VegNovVeg')\n",
        "\n",
        "print('\\n Thank You for taking our recommendations. :)')"
      ],
      "metadata": {
        "colab": {
          "base_uri": "https://localhost:8080/"
        },
        "id": "x4Rov4UeY15W",
        "outputId": "915b1adb-a494-4cd6-80bb-80973e9dba58"
      },
      "execution_count": 89,
      "outputs": [
        {
          "output_type": "stream",
          "name": "stdout",
          "text": [
            "SUGGESTED FOOD ITEMS ::\n",
            "Avocados\n",
            "Berries\n",
            "Brocolli\n",
            "Cauliflower\n",
            "American cheese\n",
            "Corn\n",
            "Dark chocolates\n",
            "Grapes\n",
            "Milk\n",
            "Cashew Nuts\n",
            "Onions\n",
            "Pasta canned with tomato sauce\n",
            "Pears\n",
            "Peas\n",
            "Protein Powder\n",
            "Pumpkin\n",
            "Tuna Fish\n",
            "Peproni Pizza\n",
            "Cheese Pizza\n",
            "Chicken Burger\n",
            "VegNovVeg\n",
            "Cheese Burger\n",
            "Sugar Doughnuts\n",
            "Chocolate Doughnuts\n",
            "Idli\n",
            "Poha\n",
            "Chappati\n",
            "Tomato\n",
            "Brownie\n",
            "\n",
            " Thank You for taking our recommendations. :)\n"
          ]
        }
      ]
    },
    {
      "cell_type": "markdown",
      "source": [
        ""
      ],
      "metadata": {
        "id": "PJjez0e8NHMH"
      }
    },
    {
      "cell_type": "code",
      "source": [
        "def Healthy():\n",
        "    show_entry_fields()\n",
        "\n",
        "    breakfastfoodseparated=[]\n",
        "    Lunchfoodseparated=[]\n",
        "    Dinnerfoodseparated=[]\n",
        "        \n",
        "    breakfastfoodseparatedID=[]\n",
        "    LunchfoodseparatedID=[]\n",
        "    DinnerfoodseparatedID=[]"
      ],
      "metadata": {
        "id": "XpYUZknANHym"
      },
      "execution_count": 90,
      "outputs": []
    },
    {
      "cell_type": "code",
      "source": [
        "for i in range(len(Breakfastdata)):\n",
        "        if BreakfastdataNumpy[i]==1:\n",
        "            breakfastfoodseparated.append( Food_itemsdata[i] )\n",
        "            breakfastfoodseparatedID.append(i)\n",
        "        if LunchdataNumpy[i]==1:\n",
        "            Lunchfoodseparated.append(Food_itemsdata[i])\n",
        "            LunchfoodseparatedID.append(i)\n",
        "        if DinnerdataNumpy[i]==1:\n",
        "            Dinnerfoodseparated.append(Food_itemsdata[i])\n",
        "            DinnerfoodseparatedID.append(i)      "
      ],
      "metadata": {
        "id": "moGUKge5NJaM"
      },
      "execution_count": 91,
      "outputs": []
    },
    {
      "cell_type": "code",
      "source": [
        "# retrieving rows by loc method |\n",
        "LunchfoodseparatedIDdata = data.iloc[LunchfoodseparatedID]\n",
        "LunchfoodseparatedIDdata=LunchfoodseparatedIDdata.T\n",
        "val=list(np.arange(5,15))\n",
        "Valapnd=[0]+val\n",
        "LunchfoodseparatedIDdata=LunchfoodseparatedIDdata.iloc[Valapnd]\n",
        "LunchfoodseparatedIDdata=LunchfoodseparatedIDdata.T"
      ],
      "metadata": {
        "id": "ZWbajfUpNNv-"
      },
      "execution_count": 92,
      "outputs": []
    },
    {
      "cell_type": "code",
      "source": [
        "# retrieving rows by loc method \n",
        "breakfastfoodseparatedIDdata = data.iloc[breakfastfoodseparatedID]\n",
        "breakfastfoodseparatedIDdata=breakfastfoodseparatedIDdata.T\n",
        "val=list(np.arange(5,15))\n",
        "Valapnd=[0]+val\n",
        "breakfastfoodseparatedIDdata=breakfastfoodseparatedIDdata.iloc[Valapnd]\n",
        "breakfastfoodseparatedIDdata=breakfastfoodseparatedIDdata.T\n",
        "        \n",
        "        \n",
        " # retrieving rows by loc method \n",
        "DinnerfoodseparatedIDdata = data.iloc[DinnerfoodseparatedID]\n",
        "DinnerfoodseparatedIDdata=DinnerfoodseparatedIDdata.T\n",
        "val=list(np.arange(5,15))\n",
        "Valapnd=[0]+val\n",
        "DinnerfoodseparatedIDdata=DinnerfoodseparatedIDdata.iloc[Valapnd]\n",
        "DinnerfoodseparatedIDdata=DinnerfoodseparatedIDdata.T"
      ],
      "metadata": {
        "id": "zWV_5LTBNYjX"
      },
      "execution_count": 93,
      "outputs": []
    },
    {
      "cell_type": "code",
      "source": [
        "age= int(input());\n",
        "veg=float(input());\n",
        "weight=float(input());\n",
        "height=float(input());\n",
        "bmi = weight/((height/100)**2) \n",
        "agewiseinp=0\n",
        "        \n",
        "for lp in range (0,80,20):\n",
        "        test_list=np.arange(lp,lp+20)\n",
        "        for i in test_list: \n",
        "            if(i == age):\n",
        "                tr=round(lp/20)  \n",
        "                agecl=round(lp/20)    \n",
        "\n",
        "        \n",
        "    #conditions\n",
        "print(\"Your body mass index is: \", bmi)\n",
        "if ( bmi < 16):\n",
        "        print(\"Acoording to your BMI, you are Severely Underweight\")\n",
        "        clbmi=4\n",
        "elif ( bmi >= 16 and bmi < 18.5):\n",
        "        print(\"Acoording to your BMI, you are Underweight\")\n",
        "        clbmi=3\n",
        "elif ( bmi >= 18.5 and bmi < 25):\n",
        "        print(\"Acoording to your BMI, you are Healthy\")\n",
        "        clbmi=2\n",
        "elif ( bmi >= 25 and bmi < 30):\n",
        "        print(\"Acoording to your BMI, you are Overweight\")\n",
        "        clbmi=1\n",
        "elif ( bmi >=30):\n",
        "        print(\"Acoording to your BMI, you are Severely Overweight\")\n",
        "        clbmi=0"
      ],
      "metadata": {
        "colab": {
          "base_uri": "https://localhost:8080/"
        },
        "id": "bqqTxFSuNo9c",
        "outputId": "1a334ee3-2ba3-44d1-a8d7-28f97d25eae8"
      },
      "execution_count": 94,
      "outputs": [
        {
          "output_type": "stream",
          "name": "stdout",
          "text": [
            "21\n",
            "1\n",
            "78\n",
            "180\n",
            "Your body mass index is:  24.074074074074073\n",
            "Acoording to your BMI, you are Healthy\n"
          ]
        }
      ]
    },
    {
      "cell_type": "code",
      "source": [
        "DinnerfoodseparatedIDdata=DinnerfoodseparatedIDdata.to_numpy()\n",
        "LunchfoodseparatedIDdata=LunchfoodseparatedIDdata.to_numpy()\n",
        "breakfastfoodseparatedIDdata=breakfastfoodseparatedIDdata.to_numpy()\n",
        "ti=(bmi+agecl)/2"
      ],
      "metadata": {
        "id": "5NXGVGTVOLT1"
      },
      "execution_count": 95,
      "outputs": []
    },
    {
      "cell_type": "code",
      "source": [
        "Datacalorie=DinnerfoodseparatedIDdata[1:,1:len(DinnerfoodseparatedIDdata)]\n",
        "    \n",
        "X = np.array(Datacalorie)\n",
        "kmeans = KMeans(n_clusters=3, random_state=0).fit(X)\n",
        "    \n",
        "XValu=np.arange(0,len(kmeans.labels_))\n",
        "fig,axs=plt.subplots(1,1,figsize=(15,5))\n",
        "plt.bar(XValu,kmeans.labels_)"
      ],
      "metadata": {
        "colab": {
          "base_uri": "https://localhost:8080/",
          "height": 337
        },
        "id": "oO741X73OSlG",
        "outputId": "0f88fbce-22cf-4728-aa32-54b9da2cdc5c"
      },
      "execution_count": 96,
      "outputs": [
        {
          "output_type": "execute_result",
          "data": {
            "text/plain": [
              "<BarContainer object of 121 artists>"
            ]
          },
          "metadata": {},
          "execution_count": 96
        },
        {
          "output_type": "display_data",
          "data": {
            "image/png": "[encoded data removed]",
            "text/plain": [
              "<Figure size 1080x360 with 1 Axes>"
            ]
          },
          "metadata": {
            "needs_background": "light"
          }
        }
      ]
    },
    {
      "cell_type": "code",
      "source": [
        "dnrlbl=kmeans.labels_\n",
        "plt.title(\"Predicted Low-High Weigted Calorie Foods\")"
      ],
      "metadata": {
        "colab": {
          "base_uri": "https://localhost:8080/",
          "height": 298
        },
        "id": "Hn-kdSMYOakZ",
        "outputId": "85c806d5-0c4e-4be1-e4a6-65d2e1623d90"
      },
      "execution_count": 97,
      "outputs": [
        {
          "output_type": "execute_result",
          "data": {
            "text/plain": [
              "Text(0.5, 1.0, 'Predicted Low-High Weigted Calorie Foods')"
            ]
          },
          "metadata": {},
          "execution_count": 97
        },
        {
          "output_type": "display_data",
          "data": {
            "image/png": "[encoded data removed]",
            "text/plain": [
              "<Figure size 432x288 with 1 Axes>"
            ]
          },
          "metadata": {
            "needs_background": "light"
          }
        }
      ]
    },
    {
      "cell_type": "code",
      "source": [
        "Datacalorie=LunchfoodseparatedIDdata[1:,1:len(LunchfoodseparatedIDdata)]\n",
        "    \n",
        "X = np.array(Datacalorie)\n",
        "kmeans = KMeans(n_clusters=3, random_state=0).fit(X)\n",
        "print ('## Prediction Result ##')\n",
        "print(kmeans.labels_)"
      ],
      "metadata": {
        "colab": {
          "base_uri": "https://localhost:8080/"
        },
        "id": "T1h8AWCkOfKX",
        "outputId": "eed57080-86cd-40c8-dd8c-38b09d356dec"
      },
      "execution_count": 98,
      "outputs": [
        {
          "output_type": "stream",
          "name": "stdout",
          "text": [
            "## Prediction Result ##\n",
            "[0 1 1 1 1 1 0 1 1 0 0 2 0 0 0 0 1 1 0 1 1 1 0 1 1 1 1 1 1 0 1 1 1 1 1 1 1\n",
            " 1 0 0 0 2 1 1 1 0 1 1 1 1 1 0 1 1 0 0 2 0 0 0 0 1 1 0 1 1 1 0 1 1 1 1 1 1\n",
            " 0 1 1 1 1 1 1 1 1 0 0 0 2 1 1]\n"
          ]
        }
      ]
    },
    {
      "cell_type": "code",
      "source": [
        "XValu=np.arange(0,len(kmeans.labels_))\n",
        "fig,axs=plt.subplots(1,1,figsize=(15,5))\n",
        "plt.bar(XValu,kmeans.labels_)\n",
        "lnchlbl=kmeans.labels_\n",
        "plt.title(\"Predicted Low-High Weigted Calorie Foods\")"
      ],
      "metadata": {
        "colab": {
          "base_uri": "https://localhost:8080/",
          "height": 353
        },
        "id": "ZWhL9YYaOmQp",
        "outputId": "3dbdea40-d822-463d-fbb7-d88100dcf1e4"
      },
      "execution_count": 99,
      "outputs": [
        {
          "output_type": "execute_result",
          "data": {
            "text/plain": [
              "Text(0.5, 1.0, 'Predicted Low-High Weigted Calorie Foods')"
            ]
          },
          "metadata": {},
          "execution_count": 99
        },
        {
          "output_type": "display_data",
          "data": {
            "image/png": "[encoded data removed]",
            "text/plain": [
              "<Figure size 1080x360 with 1 Axes>"
            ]
          },
          "metadata": {
            "needs_background": "light"
          }
        }
      ]
    },
    {
      "cell_type": "code",
      "source": [
        "Datacalorie=breakfastfoodseparatedIDdata[1:,1:len(breakfastfoodseparatedIDdata)]\n",
        "    \n",
        "X = np.array(Datacalorie)\n",
        "kmeans = KMeans(n_clusters=3, random_state=0).fit(X)\n",
        "    \n",
        "XValu=np.arange(0,len(kmeans.labels_))\n",
        "fig,axs=plt.subplots(1,1,figsize=(15,5))\n",
        "plt.bar(XValu,kmeans.labels_)"
      ],
      "metadata": {
        "colab": {
          "base_uri": "https://localhost:8080/",
          "height": 337
        },
        "id": "yuvJH8xmOuIl",
        "outputId": "57203471-8d34-4026-bbe4-a752c00e5556"
      },
      "execution_count": 100,
      "outputs": [
        {
          "output_type": "execute_result",
          "data": {
            "text/plain": [
              "<BarContainer object of 83 artists>"
            ]
          },
          "metadata": {},
          "execution_count": 100
        },
        {
          "output_type": "display_data",
          "data": {
            "image/png": "[encoded data removed]",
            "text/plain": [
              "<Figure size 1080x360 with 1 Axes>"
            ]
          },
          "metadata": {
            "needs_background": "light"
          }
        }
      ]
    },
    {
      "cell_type": "code",
      "source": [
        "brklbl=kmeans.labels_\n",
        "print (len(brklbl))\n",
        "plt.title(\"Predicted Low-High Weigted Calorie Foods\")\n",
        "inp=[]"
      ],
      "metadata": {
        "colab": {
          "base_uri": "https://localhost:8080/",
          "height": 298
        },
        "id": "bQUnkHjmO3ue",
        "outputId": "e21e35dd-dcbb-4d1b-e6df-b8e5b124a553"
      },
      "execution_count": 101,
      "outputs": [
        {
          "output_type": "stream",
          "name": "stdout",
          "text": [
            "83\n"
          ]
        },
        {
          "output_type": "display_data",
          "data": {
            "image/png": "[encoded data removed]",
            "text/plain": [
              "<Figure size 432x288 with 1 Axes>"
            ]
          },
          "metadata": {
            "needs_background": "light"
          }
        }
      ]
    },
    {
      "cell_type": "code",
      "source": [
        "## Reading of the Dataet\n",
        "datafin=pd.read_csv('nutrition_distriution.csv')\n",
        "datafin.head(5)\n",
        "   \n",
        "dataTog=datafin.T\n",
        "bmicls=[0,1,2,3,4]\n",
        "agecls=[0,1,2,3,4]\n",
        "weightlosscat = dataTog.iloc[[1,2,7,8]]\n",
        "weightlosscat=weightlosscat.T\n",
        "weightgaincat= dataTog.iloc[[0,1,2,3,4,7,9,10]]\n",
        "weightgaincat=weightgaincat.T\n",
        "healthycat = dataTog.iloc[[1,2,3,4,6,7,9]]\n",
        "healthycat=healthycat.T\n",
        "weightlosscatDdata=weightlosscat.to_numpy()\n",
        "weightgaincatDdata=weightgaincat.to_numpy()\n",
        "healthycatDdata=healthycat.to_numpy()\n",
        "weightlosscat=weightlosscatDdata[1:,0:len(weightlosscatDdata)]\n",
        "weightgaincat=weightgaincatDdata[1:,0:len(weightgaincatDdata)]\n",
        "healthycat=healthycatDdata[1:,0:len(healthycatDdata)]"
      ],
      "metadata": {
        "id": "HpJUpVvmO-6y"
      },
      "execution_count": 102,
      "outputs": []
    },
    {
      "cell_type": "code",
      "source": [
        "weightlossfin=np.zeros((len(weightlosscat)*5,6),dtype=np.float32)\n",
        "weightgainfin=np.zeros((len(weightgaincat)*5,10),dtype=np.float32)\n",
        "healthycatfin=np.zeros((len(healthycat)*5,9),dtype=np.float32)\n",
        "t=0\n",
        "r=0\n",
        "s=0\n",
        "yt=[]\n",
        "yr=[]\n",
        "ys=[]"
      ],
      "metadata": {
        "id": "iszaYqeRPZU0"
      },
      "execution_count": 103,
      "outputs": []
    },
    {
      "cell_type": "code",
      "source": [
        "for zz in range(5):\n",
        "        for jj in range(len(weightlosscat)):\n",
        "            valloc=list(weightlosscat[jj])\n",
        "            valloc.append(bmicls[zz])\n",
        "            valloc.append(agecls[zz])\n",
        "            weightlossfin[t]=np.array(valloc)\n",
        "            yt.append(brklbl[jj])\n",
        "            t+=1\n",
        "        for jj in range(len(weightgaincat)):\n",
        "            valloc=list(weightgaincat[jj])\n",
        "            #print (valloc)\n",
        "            valloc.append(bmicls[zz])\n",
        "            valloc.append(agecls[zz])\n",
        "            weightgainfin[r]=np.array(valloc)\n",
        "            yr.append(lnchlbl[jj])\n",
        "            r+=1\n",
        "        for jj in range(len(healthycat)):\n",
        "            valloc=list(healthycat[jj])\n",
        "            valloc.append(bmicls[zz])\n",
        "            valloc.append(agecls[zz])\n",
        "            healthycatfin[s]=np.array(valloc)\n",
        "            ys.append(dnrlbl[jj])\n",
        "            s+=1\n"
      ],
      "metadata": {
        "id": "rrSnIdWmPnm6"
      },
      "execution_count": 104,
      "outputs": []
    },
    {
      "cell_type": "code",
      "source": [
        "X_test=np.zeros((len(healthycat)*5,9),dtype=np.float32)"
      ],
      "metadata": {
        "id": "0EQfQ7zfPsSB"
      },
      "execution_count": 105,
      "outputs": []
    },
    {
      "cell_type": "code",
      "source": [
        "for jj in range(len(healthycat)):\n",
        "        valloc=list(healthycat[jj])\n",
        "        valloc.append(agecl)\n",
        "        valloc.append(clbmi)\n",
        "        X_test[jj]=np.array(valloc)*ti\n",
        "    \n",
        "    \n",
        "X_train=healthycatfin# Features\n",
        "y_train=ys # Labels"
      ],
      "metadata": {
        "id": "ZLJjrarePwZb"
      },
      "execution_count": 106,
      "outputs": []
    },
    {
      "cell_type": "code",
      "source": [
        "#Create a Gaussian Classifier\n",
        "clf=RandomForestClassifier(n_estimators=100)\n",
        "    \n",
        "#Train the model using the training sets #y_pred=clf.predict(X_test)\n",
        "clf.fit(X_train,y_train)\n",
        "    \n",
        "    \n",
        "X_test2=X_test\n",
        "y_pred=clf.predict(X_test)\n",
        "print ('SUGGESTED FOOD ITEMS ::')"
      ],
      "metadata": {
        "colab": {
          "base_uri": "https://localhost:8080/"
        },
        "id": "8djIP29IQLgv",
        "outputId": "4a6e1ea4-f9fe-45bc-8a27-a2c1db38060f"
      },
      "execution_count": 109,
      "outputs": [
        {
          "output_type": "stream",
          "name": "stdout",
          "text": [
            "SUGGESTED FOOD ITEMS ::\n"
          ]
        }
      ]
    },
    {
      "cell_type": "code",
      "source": [
        "for ii in range(len(y_pred)):\n",
        "        if y_pred[ii]==2:\n",
        "         #print (Food_itemsdata[ii])\n",
        "         #findata=Food_itemsdata[ii]\n",
        "         if int(veg)==1:\n",
        "                datanv=['Chicken Burger']\n",
        "\n",
        "print('\\n Thank You for taking our recommendations. :)')"
      ],
      "metadata": {
        "colab": {
          "base_uri": "https://localhost:8080/"
        },
        "id": "U1Uv-wedP2tO",
        "outputId": "202dfc12-06c4-4a32-d61a-867e0d6d11ce"
      },
      "execution_count": 110,
      "outputs": [
        {
          "output_type": "stream",
          "name": "stdout",
          "text": [
            "\n",
            " Thank You for taking our recommendations. :)\n"
          ]
        }
      ]
    },
    {
      "cell_type": "code",
      "source": [
        "### CREATE VIRTUAL DISPLAY ###\n",
        "!apt-get install -y xvfb # Install X Virtual Frame Buffer\n",
        "import os\n",
        "os.system('Xvfb :1 -screen 0 1600x1200x16  &')    # create virtual display with size 1600x1200 and 16 bit color. Color can be changed to 24 or 8\n",
        "os.environ['DISPLAY']=':1.0'    # tell X clients to use our virtual DISPLAY :1.0."
      ],
      "metadata": {
        "colab": {
          "base_uri": "https://localhost:8080/"
        },
        "id": "Na08c3W03sKV",
        "outputId": "f4332eff-1b98-4f5e-888a-af08b52e658c"
      },
      "execution_count": 111,
      "outputs": [
        {
          "output_type": "stream",
          "name": "stdout",
          "text": [
            "Reading package lists... Done\n",
            "Building dependency tree       \n",
            "Reading state information... Done\n",
            "xvfb is already the newest version (2:1.19.6-1ubuntu4.10).\n",
            "The following packages were automatically installed and are no longer required:\n",
            "  cuda-command-line-tools-10-0 cuda-command-line-tools-10-1\n",
            "  cuda-command-line-tools-11-0 cuda-compiler-10-0 cuda-compiler-10-1\n",
            "  cuda-compiler-11-0 cuda-cuobjdump-10-0 cuda-cuobjdump-10-1\n",
            "  cuda-cuobjdump-11-0 cuda-cupti-10-0 cuda-cupti-10-1 cuda-cupti-11-0\n",
            "  cuda-cupti-dev-11-0 cuda-documentation-10-0 cuda-documentation-10-1\n",
            "  cuda-documentation-11-0 cuda-documentation-11-1 cuda-gdb-10-0 cuda-gdb-10-1\n",
            "  cuda-gdb-11-0 cuda-gpu-library-advisor-10-0 cuda-gpu-library-advisor-10-1\n",
            "  cuda-libraries-10-0 cuda-libraries-10-1 cuda-libraries-11-0\n",
            "  cuda-memcheck-10-0 cuda-memcheck-10-1 cuda-memcheck-11-0 cuda-nsight-10-0\n",
            "  cuda-nsight-10-1 cuda-nsight-11-0 cuda-nsight-11-1 cuda-nsight-compute-10-0\n",
            "  cuda-nsight-compute-10-1 cuda-nsight-compute-11-0 cuda-nsight-compute-11-1\n",
            "  cuda-nsight-systems-10-1 cuda-nsight-systems-11-0 cuda-nsight-systems-11-1\n",
            "  cuda-nvcc-10-0 cuda-nvcc-10-1 cuda-nvcc-11-0 cuda-nvdisasm-10-0\n",
            "  cuda-nvdisasm-10-1 cuda-nvdisasm-11-0 cuda-nvml-dev-10-0 cuda-nvml-dev-10-1\n",
            "  cuda-nvml-dev-11-0 cuda-nvprof-10-0 cuda-nvprof-10-1 cuda-nvprof-11-0\n",
            "  cuda-nvprune-10-0 cuda-nvprune-10-1 cuda-nvprune-11-0 cuda-nvtx-10-0\n",
            "  cuda-nvtx-10-1 cuda-nvtx-11-0 cuda-nvvp-10-0 cuda-nvvp-10-1 cuda-nvvp-11-0\n",
            "  cuda-nvvp-11-1 cuda-samples-10-0 cuda-samples-10-1 cuda-samples-11-0\n",
            "  cuda-samples-11-1 cuda-sanitizer-11-0 cuda-sanitizer-api-10-1\n",
            "  cuda-toolkit-10-0 cuda-toolkit-10-1 cuda-toolkit-11-0 cuda-toolkit-11-1\n",
            "  cuda-tools-10-0 cuda-tools-10-1 cuda-tools-11-0 cuda-tools-11-1\n",
            "  cuda-visual-tools-10-0 cuda-visual-tools-10-1 cuda-visual-tools-11-0\n",
            "  cuda-visual-tools-11-1 default-jre dkms freeglut3 freeglut3-dev\n",
            "  keyboard-configuration libargon2-0 libcap2 libcryptsetup12\n",
            "  libdevmapper1.02.1 libidn11 libip4tc0 libjansson4 libnvidia-cfg1-510\n",
            "  libnvidia-common-460 libnvidia-common-510 libnvidia-extra-510\n",
            "  libnvidia-fbc1-510 libnvidia-gl-510 libpam-systemd libpolkit-agent-1-0\n",
            "  libpolkit-backend-1-0 libpolkit-gobject-1-0 libxi-dev libxmu-dev\n",
            "  libxmu-headers libxnvctrl0 libxtst6 nsight-compute-2020.2.1\n",
            "  nsight-compute-2022.1.0 nsight-systems-2020.3.2 nsight-systems-2020.3.4\n",
            "  nsight-systems-2021.5.2 nvidia-dkms-510 nvidia-kernel-common-510\n",
            "  nvidia-kernel-source-510 nvidia-modprobe nvidia-settings openjdk-11-jre\n",
            "  policykit-1 policykit-1-gnome python3-xkit screen-resolution-extra systemd\n",
            "  systemd-sysv udev xserver-xorg-core-hwe-18.04 xserver-xorg-video-nvidia-510\n",
            "Use 'apt autoremove' to remove them.\n",
            "0 upgraded, 0 newly installed, 0 to remove and 39 not upgraded.\n"
          ]
        }
      ]
    },
    {
      "cell_type": "code",
      "source": [
        "import tkinter as tk\n",
        "if __name__ == '__main__':\n",
        "   main_win = tk.Tk()"
      ],
      "metadata": {
        "id": "bqIgrnck1xa5"
      },
      "execution_count": 112,
      "outputs": []
    },
    {
      "cell_type": "code",
      "source": [
        "Label(main_win,text=\"Age\").grid(row=0,column=0,sticky=W,pady=4)\n",
        "Label(main_win,text=\"veg/Non veg (1/0)\").grid(row=1,column=0,sticky=W,pady=4)\n",
        "Label(main_win,text=\"Weight (in kg)\").grid(row=2,column=0,sticky=W,pady=4)\n",
        "Label(main_win,text=\"Height (in cm)\").grid(row=3,column=0,sticky=W,pady=4)\n"
      ],
      "metadata": {
        "id": "nNl81A1L3w2W"
      },
      "execution_count": 113,
      "outputs": []
    },
    {
      "cell_type": "code",
      "source": [
        "e1 = Entry(main_win)\n",
        "e2 = Entry(main_win)\n",
        "e3 = Entry(main_win)\n",
        "e4 = Entry(main_win)"
      ],
      "metadata": {
        "id": "u93QjSvA35kj"
      },
      "execution_count": 114,
      "outputs": []
    },
    {
      "cell_type": "code",
      "source": [
        "e1.grid(row=0, column=1)\n",
        "e2.grid(row=1, column=1)\n",
        "e3.grid(row=2, column=1)\n",
        "e4.grid(row=3, column=1)"
      ],
      "metadata": {
        "id": "LRB3MK5-4ABZ"
      },
      "execution_count": 115,
      "outputs": []
    },
    {
      "cell_type": "code",
      "source": [
        "Button(main_win,text='Quit',command=main_win.quit).grid(row=5,column=0,sticky=W,pady=4)"
      ],
      "metadata": {
        "id": "SmorWLwz4WYA"
      },
      "execution_count": 116,
      "outputs": []
    },
    {
      "cell_type": "code",
      "source": [
        "Button(main_win,text='Weight Gain',command=Weight_Gain).grid(row=2,column=4,sticky=W,pady=4)"
      ],
      "metadata": {
        "id": "V-tKxrvV4jNr"
      },
      "execution_count": 117,
      "outputs": []
    },
    {
      "cell_type": "code",
      "source": [
        "Button(main_win,text='Healthy',command=Healthy).grid(row=3,column=4,sticky=W,pady=4)"
      ],
      "metadata": {
        "id": "9A7r74Q34aFw"
      },
      "execution_count": 118,
      "outputs": []
    },
    {
      "cell_type": "code",
      "source": [
        "Button(main_win,text='Weight Loss',command=Weight_Loss).grid(row=1,column=4,sticky=W,pady=4)"
      ],
      "metadata": {
        "id": "H4zs_VQq4Hr2"
      },
      "execution_count": 119,
      "outputs": []
    },
    {
      "cell_type": "code",
      "source": [
        "main_win.geometry(\"400x200\")"
      ],
      "metadata": {
        "colab": {
          "base_uri": "https://localhost:8080/",
          "height": 35
        },
        "id": "ZwCfbfvF5JUB",
        "outputId": "13399e61-526c-4030-c9aa-0c46827e2486"
      },
      "execution_count": 120,
      "outputs": [
        {
          "output_type": "execute_result",
          "data": {
            "application/vnd.google.colaboratory.intrinsic+json": {
              "type": "string"
            },
            "text/plain": [
              "''"
            ]
          },
          "metadata": {},
          "execution_count": 120
        }
      ]
    },
    {
      "cell_type": "code",
      "source": [
        "main_win.wm_title(\"DIET RECOMMENDATION SYSTEM\")"
      ],
      "metadata": {
        "colab": {
          "base_uri": "https://localhost:8080/",
          "height": 35
        },
        "id": "K-VphacG5MFS",
        "outputId": "af238ff0-7abe-468b-b003-928d5eb4fb7c"
      },
      "execution_count": 121,
      "outputs": [
        {
          "output_type": "execute_result",
          "data": {
            "application/vnd.google.colaboratory.intrinsic+json": {
              "type": "string"
            },
            "text/plain": [
              "''"
            ]
          },
          "metadata": {},
          "execution_count": 121
        }
      ]
    }
  ]
}